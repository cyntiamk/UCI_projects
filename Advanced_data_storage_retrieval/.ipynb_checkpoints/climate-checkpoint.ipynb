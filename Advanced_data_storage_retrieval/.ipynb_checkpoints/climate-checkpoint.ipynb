{
 "cells": [
  {
   "cell_type": "code",
   "execution_count": null,
   "metadata": {},
   "outputs": [],
   "source": [
    "# import pandas and matplotlib\n",
    "import pandas as pd\n",
    "import matplotlib\n",
    "import numpy as np\n",
    "from matplotlib import pyplot as plt"
   ]
  },
  {
   "cell_type": "code",
   "execution_count": null,
   "metadata": {},
   "outputs": [],
   "source": [
    "# import SQLalchemy create_engine, automap_base, session\n",
    "import sqlalchemy\n",
    "from sqlalchemy.ext.automap import automap_base\n",
    "from sqlalchemy.orm import Session\n",
    "from sqlalchemy import create_engine, inspect, func\n",
    "from sqlalchemy import distinct\n"
   ]
  },
  {
   "cell_type": "code",
   "execution_count": null,
   "metadata": {},
   "outputs": [],
   "source": [
    "import datetime as dt"
   ]
  },
  {
   "cell_type": "markdown",
   "metadata": {},
   "source": [
    "# Hawaii trip period\n",
    "* Start date - 2017/07/08\n",
    "* End data - 2017/07/15"
   ]
  },
  {
   "cell_type": "code",
   "execution_count": null,
   "metadata": {},
   "outputs": [],
   "source": [
    "# create engine for the hawaii.sqlite database\n",
    "engine = create_engine(\"sqlite:///Resources/hawaii.sqlite\")"
   ]
  },
  {
   "cell_type": "code",
   "execution_count": null,
   "metadata": {},
   "outputs": [],
   "source": [
    "# use inpector to explore database and print table names\n",
    "inspector = inspect(engine)\n",
    "inspector.get_table_names()"
   ]
  },
  {
   "cell_type": "code",
   "execution_count": null,
   "metadata": {},
   "outputs": [],
   "source": [
    "# use inpector to print column names and types for measurement\n",
    "columns_m = inspector.get_columns('measurement')\n",
    "for column in columns_m:\n",
    "    print(column['name'], column['type'])"
   ]
  },
  {
   "cell_type": "code",
   "execution_count": null,
   "metadata": {},
   "outputs": [],
   "source": [
    "# refelct database into ORM class\n",
    "Base = automap_base()\n",
    "Base.prepare(engine, reflect=True)\n",
    "Measurement = Base.classes.measurement\n",
    "Stations = Base.classes.station"
   ]
  },
  {
   "cell_type": "code",
   "execution_count": null,
   "metadata": {},
   "outputs": [],
   "source": [
    "# start session to query the database\n",
    "session = Session(engine)"
   ]
  },
  {
   "cell_type": "code",
   "execution_count": null,
   "metadata": {},
   "outputs": [],
   "source": [
    "# create variable to hold the query values for date and preciptation,\n",
    "# last 12 months of data from the begining of my trip 2017/07/15\n",
    "\n",
    "# create and store variables for start and end dates of the trip\n",
    "start = dt.date(2017, 7, 8)\n",
    "end = dt.date(2017, 7, 15)\n",
    "\n",
    "# convert the datetime object into string to match the dateset format\n",
    "first_day = start.strftime('%Y-%m-%d')\n",
    "last_day = end.strftime('%Y-%m-%d')\n",
    "\n",
    "# calculate the date 12 months before the trip start date\n",
    "# to use as query date range\n",
    "query_start = dt.date(2017, 7, 8) - dt.timedelta(365)\n",
    "query_end = dt.date(2017, 7, 15) - dt.timedelta(365)\n",
    "\n",
    "# convert datete into string  to match the dateset format \n",
    "query_start_date = query_start.strftime('%Y-%m-%d')\n",
    "query_end_date = query_end.strftime('%Y-%m-%d')\n",
    "\n"
   ]
  },
  {
   "cell_type": "code",
   "execution_count": null,
   "metadata": {},
   "outputs": [],
   "source": [
    "'''\n",
    "query the precipition for the 12 months previous to the date start date\n",
    "we will query date and prcp from the Measurement table\n",
    "set the filter into to the date as starting on query start date\n",
    "group by the dates\n",
    "'''\n",
    "\n",
    "query_precipitation = session.query(Measurement.date, Measurement.prcp).\\\n",
    "    filter(Measurement.date >= query_start_date).\\\n",
    "    filter(Measurement.date < first_day).\\\n",
    "    group_by(Measurement.date).all()\n"
   ]
  },
  {
   "cell_type": "code",
   "execution_count": null,
   "metadata": {},
   "outputs": [],
   "source": [
    "# load the results from the variable created into Pandas dataframe \n",
    "measurement_df = pd.DataFrame(query_precipitation)\n",
    "# set index on date\n",
    "measurement_df.set_index('date', inplace=True)\n",
    "# sort values by date\n",
    "measurement_df.sort_values(by='date')\n",
    "# rename prcp to Precipitation for readability\n",
    "measurement = measurement_df.rename(columns={\"prcp\":\"Precipitation\"})\n",
    "# clean data by dropping any NA value\n",
    "measurement_results = measurement.dropna()\n",
    "# now that the dataframe is sorted by date, reset index to use dates as a list to plot\n",
    "measurement_reset_index = measurement_results.reset_index()\n",
    "\n",
    "measurement_reset_index.head()"
   ]
  },
  {
   "cell_type": "markdown",
   "metadata": {},
   "source": [
    "## Precipitation Analysis"
   ]
  },
  {
   "cell_type": "code",
   "execution_count": null,
   "metadata": {},
   "outputs": [],
   "source": [
    "# plot using the dataframe created from the query as a bar chart\n",
    "measurement_reset_index['Precipitation'].plot(kind='bar', figsize=(12, 10), title='Precipitation',color='steelblue')\n",
    "# set y lable\n",
    "plt.ylabel(\"Precipitation\")\n",
    "plt.xlabel(\"Period: 2016/07/08 - 2017/07/07\")\n",
    "# set grid and its transparence\n",
    "plt.grid(alpha=0.25)\n",
    "\n",
    "# remove xticks, since there are too many ticks, the ticks are on top of each other\n",
    "# and not really readable, so it looks better without each date printed\n",
    "plt.tick_params(\n",
    "    axis='x',          # changes apply to the x-axis\n",
    "    which='both',      # both major and minor ticks are affected\n",
    "    bottom=False,      # ticks along the bottom edge are off\n",
    "    top=False,         # ticks along the top edge are off\n",
    "    labelbottom=False) # labels along the bottom edge are off\n",
    "# set title\n",
    "plt.title(\"Precipitation: 12 months prior to trip start date\")\n",
    "plt.tight_layout()\n",
    "# save image\n",
    "plt.savefig(\"Resources/precipitaion.png\")\n",
    "plt.show()"
   ]
  },
  {
   "cell_type": "markdown",
   "metadata": {},
   "source": [
    "### Precipitation Statistical Summary"
   ]
  },
  {
   "cell_type": "code",
   "execution_count": null,
   "metadata": {},
   "outputs": [],
   "source": [
    "measurement_reset_index.describe()"
   ]
  },
  {
   "cell_type": "markdown",
   "metadata": {},
   "source": [
    "## Station Analysis"
   ]
  },
  {
   "cell_type": "code",
   "execution_count": null,
   "metadata": {},
   "outputs": [],
   "source": [
    "# use inpector to print column names and types for station table\n",
    "columns_s = inspector.get_columns('station')\n",
    "for column in columns_s:\n",
    "    print(column['name'], column['type'])"
   ]
  },
  {
   "cell_type": "markdown",
   "metadata": {},
   "source": [
    "#### Total number of Stations"
   ]
  },
  {
   "cell_type": "code",
   "execution_count": null,
   "metadata": {},
   "outputs": [],
   "source": [
    "# counts the number os stations available in this dataset\n",
    "query_stations = session.query(func.distinct(Measurement.station)).count()\n",
    "print(query_stations)"
   ]
  },
  {
   "cell_type": "markdown",
   "metadata": {},
   "source": [
    "#### Most active stations in descending order"
   ]
  },
  {
   "cell_type": "code",
   "execution_count": null,
   "metadata": {},
   "outputs": [],
   "source": [
    "'''\n",
    "finds the most active stations in descending order\n",
    "query station into the Measurement table, use func to count the stations appearaces\n",
    "add label in case we need to convert into pandas dataframe\n",
    "groupby station and order by the count of station appearances\n",
    "'''\n",
    "active_stations = session.query((Measurement.station),\\\n",
    "    func.count(Measurement.station).label(\"Station_Activity\")).\\\n",
    "    group_by(Measurement.station).\\\n",
    "    order_by(func.count(Measurement.station).desc()).all()\n",
    "active_stations"
   ]
  },
  {
   "cell_type": "markdown",
   "metadata": {},
   "source": [
    "### The Station with highest number of observations is\n",
    "## station: USC00519281 with 2772 observations"
   ]
  },
  {
   "cell_type": "markdown",
   "metadata": {},
   "source": [
    "#### Most active station's lowest, highest and average temperatures"
   ]
  },
  {
   "cell_type": "code",
   "execution_count": null,
   "metadata": {},
   "outputs": [],
   "source": [
    "'''\n",
    "most active station (USC00519281)lowest temperature, highest temperature and average temp\n",
    "query using the func to find min, max and avg temperatures for the most acitve station\n",
    "setting labels in case we need to convert into pandas dataframe\n",
    "filter by the station id\n",
    "'''\n",
    "most_active_station = session.query(func.min(Measurement.tobs).label('lowest_temp'),\\\n",
    "                      func.max(Measurement.tobs).label('highest_temp'),\\\n",
    "                      func.avg(Measurement.tobs).label('average_temp')).\\\n",
    "                      filter(Measurement.station == \"USC00519281\").all()\n",
    "\n",
    "most_active_station"
   ]
  },
  {
   "cell_type": "markdown",
   "metadata": {},
   "source": [
    " ###### Top Station tobs for the 12 months prior to the trip"
   ]
  },
  {
   "cell_type": "code",
   "execution_count": null,
   "metadata": {},
   "outputs": [],
   "source": [
    "'''\n",
    "find out which station the the highest amount of temperature observations\n",
    "during the 12 months prior to the trip start date\n",
    "query the station, count the stations appearances\n",
    "filter by query start date (that is 12 months before the trip start date)\n",
    "filter by the end date as well to keep it within the range\n",
    "groupby station and order by the stations count from highest to low\n",
    "there were two station with the highest count, pick the same one that also \n",
    "had the highest count of activities\n",
    "'''\n",
    "\n",
    "tobs_last_12months = session.query(Measurement.station,\\\n",
    "    func.count(Measurement.tobs).label(\"Highest_number_observations\")).\\\n",
    "    filter(Measurement.date > query_start_date).\\\n",
    "    filter(Measurement.date < last_day).\\\n",
    "    group_by(Measurement.station).\\\n",
    "    order_by(func.count(Measurement.tobs).desc()).all()\n",
    "tobs_last_12months"
   ]
  },
  {
   "cell_type": "code",
   "execution_count": null,
   "metadata": {
    "scrolled": true
   },
   "outputs": [],
   "source": [
    "'''\n",
    "get all the data from the top station only, set query to temperatures only\n",
    "filter by query start date and end date and also by the station with highest\n",
    "tobs counts\n",
    "'''\n",
    "top_station_tobs = session.query(Measurement.tobs).\\\n",
    "    filter(Measurement.date >= query_start_date).\\\n",
    "    filter(Measurement.date <= last_day).\\\n",
    "    filter(Measurement.station == 'USC00519281').all()"
   ]
  },
  {
   "cell_type": "code",
   "execution_count": null,
   "metadata": {},
   "outputs": [],
   "source": [
    "# put the date into a Pandas dataframe to plot the histogram\n",
    "top_station_tobs_df = pd.DataFrame(top_station_tobs)\n",
    "top_station_tobs_df.head()"
   ]
  },
  {
   "cell_type": "markdown",
   "metadata": {},
   "source": [
    "#### Histogram (Tobs for the  Top Station in the last 12 months)"
   ]
  },
  {
   "cell_type": "code",
   "execution_count": null,
   "metadata": {},
   "outputs": [],
   "source": [
    "# using the top station dataframe, plot the histogram\n",
    "hist = top_station_tobs_df.hist(bins=12,edgecolor='black',alpha=0.75)\n",
    "\n",
    "plt.xlabel('Temperatures')\n",
    "plt.ylabel('Frequency')\n",
    "plt.savefig(\"Resources/histogram\")\n",
    "plt.show()"
   ]
  },
  {
   "cell_type": "markdown",
   "metadata": {},
   "source": [
    "## Temperature Analysis"
   ]
  },
  {
   "cell_type": "code",
   "execution_count": null,
   "metadata": {},
   "outputs": [],
   "source": [
    "'''\n",
    "create function to measure min, max and avg temperature for a range of date\n",
    "first select the query items, in this case we are finding the min, max and avg\n",
    "using func. we filter using start_date and end_date and the paramenter of the function\n",
    "we can then call the function with any dates we desire to query\n",
    "'''\n",
    "def calc_temps(start_date, end_date):\n",
    "    \n",
    "   \n",
    "    sel = [func.min(Measurement.tobs).label('min_temp'),\\\n",
    "           func.max(Measurement.tobs).label('max_temp'),\\\n",
    "           func.avg(Measurement.tobs).label('avg_temp')]\n",
    "    \n",
    "    return session.query(*sel).\\\n",
    "           filter(Measurement.date >= start_date).\\\n",
    "           filter(Measurement.date <= end_date).all()\n",
    "\n",
    "calc_temps(first_day, last_day)"
   ]
  },
  {
   "cell_type": "code",
   "execution_count": null,
   "metadata": {},
   "outputs": [],
   "source": [
    "'''to use to function created above, we just need to call the query start and\n",
    "end date created earlier'''\n",
    "\n",
    "\n",
    "calc_temps(query_start_date, query_end_date)"
   ]
  },
  {
   "cell_type": "markdown",
   "metadata": {},
   "source": [
    "### Plot Trip Average Temperature"
   ]
  },
  {
   "cell_type": "code",
   "execution_count": null,
   "metadata": {},
   "outputs": [],
   "source": [
    "'''\n",
    "store results from function above into a pandas dataframe\n",
    "using a loop, get the difference between the max temp and min temp\n",
    "unpack into a list called ptps to plot as the yerr\n",
    "'''\n",
    "previous_year_temps = pd.DataFrame(calc_temps(query_start_date, query_end_date))\n",
    "\n",
    "results = []\n",
    "for temp in previous_year_temps:\n",
    "    diff = (previous_year_temps['max_temp'])-(previous_year_temps['min_temp'])\n",
    "results.append(diff)\n",
    "\n",
    "ptps = list(np.ravel(results))\n"
   ]
  },
  {
   "cell_type": "code",
   "execution_count": null,
   "metadata": {},
   "outputs": [],
   "source": [
    "# create subplot\n",
    "fig, ax = plt.subplots(figsize=(3, 5))\n",
    "\n",
    "# set x value \n",
    "x = np.arange(len(previous_year_temps['avg_temp']))\n",
    "# plot x as x value and avg temp as y value \n",
    "ax.bar(x, previous_year_temps['avg_temp'], yerr=ptps, color='lightcoral', alpha=0.5)\n",
    "\n",
    "ax.set_title('Trip Average Temperature')\n",
    "ax.set_ylabel('Temperature (F)')\n",
    "\n",
    "# remove xtick \n",
    "ax.yaxis.grid(alpha=0.75)\n",
    "plt.tick_params(\n",
    "    axis='x',          # changes apply to the x-axis\n",
    "    which='both',      # both major and minor ticks are affected\n",
    "    bottom=False,      # ticks along the bottom edge are off\n",
    "    top=False,         # ticks along the top edge are off\n",
    "    labelbottom=False) # labels along the bottom edge are off\n",
    "plt.tight_layout()\n",
    "plt.savefig(\"Resources/trip_avg_temp.png\")\n",
    "plt.show()\n"
   ]
  },
  {
   "cell_type": "markdown",
   "metadata": {},
   "source": [
    "### Average Rainfall per Weather Station"
   ]
  },
  {
   "cell_type": "code",
   "execution_count": null,
   "metadata": {},
   "outputs": [],
   "source": [
    "'''\n",
    "list all stations by descending order of  average rainfal for the period of the trip\n",
    "12 months prior, create a funcion with the query of both tables (Measurement and Station)\n",
    "using a joing, and func for average precipitation\n",
    "'''\n",
    "def rainfall_station(start_date, end_date):\n",
    "    \n",
    "    \n",
    "    sel = [Stations.name, Stations.latitude, Stations.longitude, Stations.elevation,\\\n",
    "          func.avg(Measurement.prcp)]  \n",
    "    \n",
    "    return session.query(*sel).filter(Measurement.station == Stations.station).\\\n",
    "                      filter(Measurement.date >= start_date).\\\n",
    "                      filter(Measurement.date <= end_date).\\\n",
    "                      group_by(Measurement.station).\\\n",
    "                      order_by(func.avg(Measurement.prcp).desc()).all()\n",
    "rainfall_station(query_start_date, query_end_date)\n",
    " "
   ]
  },
  {
   "cell_type": "markdown",
   "metadata": {},
   "source": [
    "### Daily Normals\n"
   ]
  },
  {
   "cell_type": "code",
   "execution_count": null,
   "metadata": {},
   "outputs": [],
   "source": [
    "'''\n",
    "Create a function to calculate the daily normals using a query with the parameter date\n",
    "being only the month and day of all years in the dateset\n",
    "''' \n",
    "\n",
    "def daily_normals(date):\n",
    "    \n",
    "    sel = [func.min(Measurement.tobs).label('min_temp'),\\\n",
    "           func.avg(Measurement.tobs).label('avg_temp'),\\\n",
    "           func.max(Measurement.tobs).label('max_temp')]\n",
    "    \n",
    "    return session.query(*sel).filter(func.strftime(\"%m-%d\", Measurement.date) == date).all()"
   ]
  },
  {
   "cell_type": "code",
   "execution_count": null,
   "metadata": {},
   "outputs": [],
   "source": [
    "# calculate the daily normals for your trip\n",
    "# push each tuple of calculations into a list called `normals`\n",
    "normals = []\n",
    "\n",
    "# Set the start and end date of the trip\n",
    "start_normals= dt.date(2016, 7, 8)\n",
    "end_normals = dt.date(2016, 7, 16) #had to add an extra day to show correct end date in the range\n",
    "\n",
    "# Use the start and end date to create a range of dates\n",
    "range_dates = np.arange(start_normals, end_normals)\n",
    "range_dates_dt= pd.to_datetime(range_dates)\n",
    "\n",
    "\n",
    "# Strip off the year and save a list of %m-%d strings\n",
    "month_days = range_dates_dt.strftime('%m-%d')\n",
    "\n",
    "\n",
    "# Loop through the list of %m-%d strings and calculate the normals for each date\n",
    "# calling in the function daily_normals created above\n",
    "for date in month_days:\n",
    "    normal = daily_normals(date)\n",
    "    normals.append(normal)\n",
    "normals"
   ]
  },
  {
   "cell_type": "code",
   "execution_count": null,
   "metadata": {},
   "outputs": [],
   "source": [
    "# Load the previous query results into a Pandas DataFrame\n",
    "normals_df = pd.DataFrame(normals)\n",
    "# had to set the dataframe to series to strip each value in a separate column\n",
    "normals_org = normals_df[0].apply(pd.Series)\n",
    "# add columns trip_date as to hold the month_days list created from the loop\n",
    "normals_org['trip_dates'] = month_days\n",
    "# renamed columns\n",
    "normals_renamed = normals_org.rename(columns={0:'Tmin',1:'Tavg',2:'Tmax'})\n",
    "# set index to trip dates\n",
    "normals_renamed.set_index('trip_dates')\n"
   ]
  },
  {
   "cell_type": "code",
   "execution_count": null,
   "metadata": {},
   "outputs": [],
   "source": [
    "# Plot the daily normals as an area plot\n",
    "# set variable for each area plot\n",
    "tmin = normals_renamed['Tmin']\n",
    "tavg = normals_renamed['Tavg']\n",
    "tmax = normals_renamed['Tmax']\n",
    "# x_axis will be the trip_dates for all plots\n",
    "x_axis = np.arange(len(normals_renamed['trip_dates']))\n",
    "\n",
    "# plot the area plot with the three variables\n",
    "fig, ax = plt.subplots(figsize=(8,6))\n",
    "ax.plot(tmin, label='Tmin',linewidth=3,color='blue',alpha=0.3 )\n",
    "ax.plot(tavg, label='Tavg',linewidth=3,color='grey',alpha=0.5)\n",
    "ax.plot(tmax, label='Tmax',linewidth=3,color='coral',alpha=0.3)\n",
    "# add fill to each plot\n",
    "ax.fill_between(np.arange(len(tmin)), tmin, color='blue', alpha=0.15)\n",
    "ax.fill_between(np.arange(len(tavg)), tavg, color='grey', alpha=0.2)\n",
    "ax.fill_between(np.arange(len(tmax)), tmax, color='coral', alpha=0.15)\n",
    "\n",
    "# set ticks \n",
    "ax.xaxis.set_ticks(np.arange(len(normals_renamed['trip_dates'])))\n",
    "ax.set_xticklabels(normals_renamed['trip_dates'],rotation=45)\n",
    "\n",
    "ax.xaxis.grid(alpha=1)\n",
    "\n",
    "plt.title(\"Daily Normals\")\n",
    "plt.xlabel(\"Dates\")\n",
    "plt.ylabel(\"Temperature(F)\")\n",
    "plt.legend(bbox_to_anchor=(1.05, 1), loc=2, borderaxespad=0.)\n",
    "plt.savefig(\"Resources/daily_normals\")\n",
    "plt.show()\n",
    "\n",
    "\n"
   ]
  },
  {
   "cell_type": "code",
   "execution_count": null,
   "metadata": {},
   "outputs": [],
   "source": []
  }
 ],
 "metadata": {
  "kernelspec": {
   "display_name": "Python [conda env:PythonData]",
   "language": "python",
   "name": "conda-env-PythonData-py"
  },
  "language_info": {
   "codemirror_mode": {
    "name": "ipython",
    "version": 3
   },
   "file_extension": ".py",
   "mimetype": "text/x-python",
   "name": "python",
   "nbconvert_exporter": "python",
   "pygments_lexer": "ipython3",
   "version": "3.6.5"
  }
 },
 "nbformat": 4,
 "nbformat_minor": 2
}
