{
 "cells": [
  {
   "cell_type": "code",
   "execution_count": 1,
   "metadata": {},
   "outputs": [],
   "source": [
    "# import pandas and matplotlib\n",
    "import pandas as pd\n",
    "import matplotlib\n",
    "#from matplotlib import style\n",
    "#style.use('seaborn')\n",
    "import numpy as np\n",
    "from matplotlib import pyplot as plt"
   ]
  },
  {
   "cell_type": "code",
   "execution_count": 234,
   "metadata": {},
   "outputs": [],
   "source": [
    "# import SQLalchemy create_engine, automap_base, session\n",
    "import sqlalchemy\n",
    "from sqlalchemy.ext.automap import automap_base\n",
    "from sqlalchemy.orm import Session\n",
    "from sqlalchemy import create_engine, inspect, func\n",
    "from sqlalchemy import distinct\n",
    "from sqlalchemy import between, select"
   ]
  },
  {
   "cell_type": "code",
   "execution_count": 228,
   "metadata": {},
   "outputs": [],
   "source": [
    "import datetime as dt"
   ]
  },
  {
   "cell_type": "markdown",
   "metadata": {},
   "source": [
    "# Hawaii trip period\n",
    "* Start date - 2017/07/08\n",
    "* End data - 2017/07/15"
   ]
  },
  {
   "cell_type": "code",
   "execution_count": 4,
   "metadata": {},
   "outputs": [],
   "source": [
    "# create engine for the hawaii.sqlite database\n",
    "engine = create_engine(\"sqlite:///Resources/hawaii.sqlite\")"
   ]
  },
  {
   "cell_type": "code",
   "execution_count": 5,
   "metadata": {},
   "outputs": [
    {
     "data": {
      "text/plain": [
       "['measurement', 'station']"
      ]
     },
     "execution_count": 5,
     "metadata": {},
     "output_type": "execute_result"
    }
   ],
   "source": [
    "# use inpector to explore database and print table names\n",
    "inspector = inspect(engine)\n",
    "inspector.get_table_names()"
   ]
  },
  {
   "cell_type": "code",
   "execution_count": 6,
   "metadata": {},
   "outputs": [
    {
     "name": "stdout",
     "output_type": "stream",
     "text": [
      "id INTEGER\n",
      "station TEXT\n",
      "date TEXT\n",
      "prcp FLOAT\n",
      "tobs FLOAT\n"
     ]
    }
   ],
   "source": [
    "# use inpector to print column names and types for measurement\n",
    "columns_m = inspector.get_columns('measurement')\n",
    "for column in columns_m:\n",
    "    print(column['name'], column['type'])"
   ]
  },
  {
   "cell_type": "code",
   "execution_count": 60,
   "metadata": {},
   "outputs": [],
   "source": [
    "# refelct database into ORM class\n",
    "Base = automap_base()\n",
    "Base.prepare(engine, reflect=True)\n",
    "Measurement = Base.classes.measurement\n",
    "Stations = Base.classes.station"
   ]
  },
  {
   "cell_type": "code",
   "execution_count": 61,
   "metadata": {},
   "outputs": [],
   "source": [
    "# start session to query the database\n",
    "session = Session(engine)"
   ]
  },
  {
   "cell_type": "code",
   "execution_count": 304,
   "metadata": {},
   "outputs": [
    {
     "data": {
      "text/plain": [
       "datetime.date(2017, 7, 8)"
      ]
     },
     "execution_count": 304,
     "metadata": {},
     "output_type": "execute_result"
    }
   ],
   "source": [
    "# create variable to hold the query values for date and preciptation,\n",
    "# last 12 months of data from the end of my trip 2017/07/15\n",
    "\n",
    "# create variable to hold the date 12 months before the end of the trip\n",
    "query_date = dt.date(2017, 7,15) - dt.timedelta(days=365)\n",
    "\n",
    "# convert date to %Y-%m-%d format\n",
    "end_date = dt.date(2017, 7, 15)\n",
    "start_date = dt.date(2017, 7, 8)\n",
    "\n",
    "\n",
    "# using the query_date created, filter the query session to get all the precipitation \n",
    "# for the 12 months\n",
    "query_precipitation = session.query(Measurement.date, Measurement.prcp).\\\n",
    "    filter(Measurement.date > query_date).\\\n",
    "    filter(Measurement.date < end_date).all()\n"
   ]
  },
  {
   "cell_type": "code",
   "execution_count": 63,
   "metadata": {},
   "outputs": [
    {
     "data": {
      "text/html": [
       "<div>\n",
       "<style scoped>\n",
       "    .dataframe tbody tr th:only-of-type {\n",
       "        vertical-align: middle;\n",
       "    }\n",
       "\n",
       "    .dataframe tbody tr th {\n",
       "        vertical-align: top;\n",
       "    }\n",
       "\n",
       "    .dataframe thead th {\n",
       "        text-align: right;\n",
       "    }\n",
       "</style>\n",
       "<table border=\"1\" class=\"dataframe\">\n",
       "  <thead>\n",
       "    <tr style=\"text-align: right;\">\n",
       "      <th></th>\n",
       "      <th>date</th>\n",
       "      <th>Precipitation</th>\n",
       "    </tr>\n",
       "  </thead>\n",
       "  <tbody>\n",
       "    <tr>\n",
       "      <th>0</th>\n",
       "      <td>2016-07-16</td>\n",
       "      <td>0.03</td>\n",
       "    </tr>\n",
       "    <tr>\n",
       "      <th>1</th>\n",
       "      <td>2016-07-17</td>\n",
       "      <td>0.00</td>\n",
       "    </tr>\n",
       "    <tr>\n",
       "      <th>2</th>\n",
       "      <td>2016-07-18</td>\n",
       "      <td>1.25</td>\n",
       "    </tr>\n",
       "    <tr>\n",
       "      <th>3</th>\n",
       "      <td>2016-07-19</td>\n",
       "      <td>0.03</td>\n",
       "    </tr>\n",
       "    <tr>\n",
       "      <th>4</th>\n",
       "      <td>2016-07-20</td>\n",
       "      <td>0.00</td>\n",
       "    </tr>\n",
       "  </tbody>\n",
       "</table>\n",
       "</div>"
      ],
      "text/plain": [
       "         date  Precipitation\n",
       "0  2016-07-16           0.03\n",
       "1  2016-07-17           0.00\n",
       "2  2016-07-18           1.25\n",
       "3  2016-07-19           0.03\n",
       "4  2016-07-20           0.00"
      ]
     },
     "execution_count": 63,
     "metadata": {},
     "output_type": "execute_result"
    }
   ],
   "source": [
    "# load the results from the variable created into Pandas dataframe \n",
    "measurement_df = pd.DataFrame(query_precipitation)\n",
    "# set index on date\n",
    "measurement_df.set_index('date', inplace=True)\n",
    "# sort values by date\n",
    "measurement_df.sort_values(by='date')\n",
    "# rename prcp to Precipitation for readability\n",
    "measurement = measurement_df.rename(columns={\"prcp\":\"Precipitation\"})\n",
    "# clean data by dropping any na value\n",
    "measurement_results = measurement.dropna()\n",
    "# now that the dataframe is sorted by date, reset index to use dates as a list to plot\n",
    "measurement_reset_index = measurement_results.reset_index()\n",
    "measurement_reset_index.head()"
   ]
  },
  {
   "cell_type": "code",
   "execution_count": 64,
   "metadata": {},
   "outputs": [],
   "source": [
    "#unpack results into lists to plot\n",
    "dates = [date for date in measurement_reset_index['date']]\n",
    "precipitations = [precipitation for precipitation in measurement_reset_index['Precipitation']]"
   ]
  },
  {
   "cell_type": "markdown",
   "metadata": {},
   "source": [
    "## Precipitation Analysis"
   ]
  },
  {
   "cell_type": "code",
   "execution_count": 305,
   "metadata": {},
   "outputs": [
    {
     "data": {
      "image/png": "[encoded data removed]",
      "text/plain": [
       "<Figure size 720x576 with 1 Axes>"
      ]
     },
     "metadata": {},
     "output_type": "display_data"
    }
   ],
   "source": [
    "fig, ax =  plt.subplots(figsize=(10,8))\n",
    "x_axis = np.arange(len(dates))\n",
    "ax.bar(dates, precipitations)\n",
    "ax.set_xlabel(\"Date\")\n",
    "ax.set_ylabel(\"Precipitation\")\n",
    "\n",
    "plt.tick_params(\n",
    "    axis='x',          # changes apply to the x-axis\n",
    "    which='both',      # both major and minor ticks are affected\n",
    "    bottom=False,      # ticks along the bottom edge are off\n",
    "    top=False,         # ticks along the top edge are off\n",
    "    labelbottom=False) # labels along the bottom edge are off\n",
    "plt.tight_layout()\n",
    "plt.show()"
   ]
  },
  {
   "cell_type": "code",
   "execution_count": 66,
   "metadata": {},
   "outputs": [
    {
     "data": {
      "text/html": [
       "<div>\n",
       "<style scoped>\n",
       "    .dataframe tbody tr th:only-of-type {\n",
       "        vertical-align: middle;\n",
       "    }\n",
       "\n",
       "    .dataframe tbody tr th {\n",
       "        vertical-align: top;\n",
       "    }\n",
       "\n",
       "    .dataframe thead th {\n",
       "        text-align: right;\n",
       "    }\n",
       "</style>\n",
       "<table border=\"1\" class=\"dataframe\">\n",
       "  <thead>\n",
       "    <tr style=\"text-align: right;\">\n",
       "      <th></th>\n",
       "      <th>Precipitation</th>\n",
       "    </tr>\n",
       "  </thead>\n",
       "  <tbody>\n",
       "    <tr>\n",
       "      <th>count</th>\n",
       "      <td>2054.000000</td>\n",
       "    </tr>\n",
       "    <tr>\n",
       "      <th>mean</th>\n",
       "      <td>0.204245</td>\n",
       "    </tr>\n",
       "    <tr>\n",
       "      <th>std</th>\n",
       "      <td>0.567003</td>\n",
       "    </tr>\n",
       "    <tr>\n",
       "      <th>min</th>\n",
       "      <td>0.000000</td>\n",
       "    </tr>\n",
       "    <tr>\n",
       "      <th>25%</th>\n",
       "      <td>0.000000</td>\n",
       "    </tr>\n",
       "    <tr>\n",
       "      <th>50%</th>\n",
       "      <td>0.020000</td>\n",
       "    </tr>\n",
       "    <tr>\n",
       "      <th>75%</th>\n",
       "      <td>0.140000</td>\n",
       "    </tr>\n",
       "    <tr>\n",
       "      <th>max</th>\n",
       "      <td>9.640000</td>\n",
       "    </tr>\n",
       "  </tbody>\n",
       "</table>\n",
       "</div>"
      ],
      "text/plain": [
       "       Precipitation\n",
       "count    2054.000000\n",
       "mean        0.204245\n",
       "std         0.567003\n",
       "min         0.000000\n",
       "25%         0.000000\n",
       "50%         0.020000\n",
       "75%         0.140000\n",
       "max         9.640000"
      ]
     },
     "execution_count": 66,
     "metadata": {},
     "output_type": "execute_result"
    }
   ],
   "source": [
    "measurement_reset_index.describe()"
   ]
  },
  {
   "cell_type": "markdown",
   "metadata": {},
   "source": [
    "## Station Analysis"
   ]
  },
  {
   "cell_type": "code",
   "execution_count": 67,
   "metadata": {},
   "outputs": [
    {
     "name": "stdout",
     "output_type": "stream",
     "text": [
      "id INTEGER\n",
      "station TEXT\n",
      "name TEXT\n",
      "latitude FLOAT\n",
      "longitude FLOAT\n",
      "elevation FLOAT\n"
     ]
    }
   ],
   "source": [
    "# use inpector to print column names and types for station\n",
    "columns_s = inspector.get_columns('station')\n",
    "for column in columns_s:\n",
    "    print(column['name'], column['type'])"
   ]
  },
  {
   "cell_type": "code",
   "execution_count": 68,
   "metadata": {},
   "outputs": [
    {
     "name": "stdout",
     "output_type": "stream",
     "text": [
      "9\n"
     ]
    }
   ],
   "source": [
    "# counts the number os stations available in this dataset\n",
    "query_stations = session.query(func.distinct(Measurement.station)).count()\n",
    "print(query_stations)"
   ]
  },
  {
   "cell_type": "markdown",
   "metadata": {},
   "source": [
    "Most active stations in descending order"
   ]
  },
  {
   "cell_type": "code",
   "execution_count": 69,
   "metadata": {},
   "outputs": [
    {
     "data": {
      "text/plain": [
       "[('USC00519281', 2772),\n",
       " ('USC00519397', 2724),\n",
       " ('USC00513117', 2709),\n",
       " ('USC00519523', 2669),\n",
       " ('USC00516128', 2612),\n",
       " ('USC00514830', 2202),\n",
       " ('USC00511918', 1979),\n",
       " ('USC00517948', 1372),\n",
       " ('USC00518838', 511)]"
      ]
     },
     "execution_count": 69,
     "metadata": {},
     "output_type": "execute_result"
    }
   ],
   "source": [
    "# finds the most active stations in descending order\n",
    "active_stations = session.query((Measurement.station),\\\n",
    "    func.count(Measurement.station).label(\"Station_Activity\")).\\\n",
    "    group_by(Measurement.station).\\\n",
    "    order_by(func.count(Measurement.station).desc()).all()\n",
    "active_stations"
   ]
  },
  {
   "cell_type": "markdown",
   "metadata": {},
   "source": [
    "#### Most active station's highest, lowest and average temperatures"
   ]
  },
  {
   "cell_type": "code",
   "execution_count": 70,
   "metadata": {},
   "outputs": [
    {
     "data": {
      "text/plain": [
       "[(54.0, 85.0, 71.66378066378067)]"
      ]
     },
     "execution_count": 70,
     "metadata": {},
     "output_type": "execute_result"
    }
   ],
   "source": [
    "# most active station (USC00519281)lowest temperature, highest temperature and average temp\n",
    "most_active_station = session.query(func.min(Measurement.tobs).label('lowest_temp'),\\\n",
    "                      func.max(Measurement.tobs).label('highest_temp'),\\\n",
    "                      func.avg(Measurement.tobs).label('average_temp')).\\\n",
    "                      filter(Measurement.station == \"USC00519281\").all()\n",
    "\n",
    "most_active_station"
   ]
  },
  {
   "cell_type": "markdown",
   "metadata": {},
   "source": [
    "##### 12 months tobs filtered by station with highest number of observations "
   ]
  },
  {
   "cell_type": "code",
   "execution_count": 71,
   "metadata": {
    "scrolled": true
   },
   "outputs": [
    {
     "data": {
      "text/plain": [
       "[('USC00513117', 365),\n",
       " ('USC00519281', 365),\n",
       " ('USC00519397', 363),\n",
       " ('USC00516128', 347),\n",
       " ('USC00519523', 340),\n",
       " ('USC00514830', 297),\n",
       " ('USC00517948', 195)]"
      ]
     },
     "execution_count": 71,
     "metadata": {},
     "output_type": "execute_result"
    }
   ],
   "source": [
    "# find station with the highest number of temperarute observations\n",
    "# filtering by the period 12 months before the end of the trip\n",
    "\n",
    "tobs_last_12months = session.query(Measurement.station,\\\n",
    "    func.count(Measurement.tobs).label(\"Highest_number_observations\")).\\\n",
    "    filter(Measurement.date > query_date).\\\n",
    "    filter(Measurement.date < end_date).\\\n",
    "    group_by(Measurement.station).\\\n",
    "    order_by(func.count(Measurement.tobs).desc()).all()\n",
    "tobs_last_12months"
   ]
  },
  {
   "cell_type": "markdown",
   "metadata": {},
   "source": [
    " ###### top station tobs"
   ]
  },
  {
   "cell_type": "code",
   "execution_count": 72,
   "metadata": {
    "scrolled": true
   },
   "outputs": [],
   "source": [
    "# get all the data from the top station only\n",
    "top_station_tobs = session.query(Measurement.tobs).\\\n",
    "    filter(Measurement.date > query_date).\\\n",
    "    filter(Measurement.date < end_date).\\\n",
    "    filter(Measurement.station == 'USC00513117').all()"
   ]
  },
  {
   "cell_type": "code",
   "execution_count": 73,
   "metadata": {},
   "outputs": [
    {
     "data": {
      "text/html": [
       "<div>\n",
       "<style scoped>\n",
       "    .dataframe tbody tr th:only-of-type {\n",
       "        vertical-align: middle;\n",
       "    }\n",
       "\n",
       "    .dataframe tbody tr th {\n",
       "        vertical-align: top;\n",
       "    }\n",
       "\n",
       "    .dataframe thead th {\n",
       "        text-align: right;\n",
       "    }\n",
       "</style>\n",
       "<table border=\"1\" class=\"dataframe\">\n",
       "  <thead>\n",
       "    <tr style=\"text-align: right;\">\n",
       "      <th></th>\n",
       "      <th>tobs</th>\n",
       "    </tr>\n",
       "  </thead>\n",
       "  <tbody>\n",
       "    <tr>\n",
       "      <th>0</th>\n",
       "      <td>75.0</td>\n",
       "    </tr>\n",
       "    <tr>\n",
       "      <th>1</th>\n",
       "      <td>76.0</td>\n",
       "    </tr>\n",
       "    <tr>\n",
       "      <th>2</th>\n",
       "      <td>76.0</td>\n",
       "    </tr>\n",
       "    <tr>\n",
       "      <th>3</th>\n",
       "      <td>75.0</td>\n",
       "    </tr>\n",
       "    <tr>\n",
       "      <th>4</th>\n",
       "      <td>78.0</td>\n",
       "    </tr>\n",
       "  </tbody>\n",
       "</table>\n",
       "</div>"
      ],
      "text/plain": [
       "   tobs\n",
       "0  75.0\n",
       "1  76.0\n",
       "2  76.0\n",
       "3  75.0\n",
       "4  78.0"
      ]
     },
     "execution_count": 73,
     "metadata": {},
     "output_type": "execute_result"
    }
   ],
   "source": [
    "# put the date into a Pandas dataframe to plot the histogram\n",
    "top_station_tobs_df = pd.DataFrame(top_station_tobs)\n",
    "top_station_tobs_df.head()"
   ]
  },
  {
   "cell_type": "markdown",
   "metadata": {},
   "source": [
    "#### Histogram"
   ]
  },
  {
   "cell_type": "code",
   "execution_count": 74,
   "metadata": {},
   "outputs": [
    {
     "data": {
      "image/png": "[encoded data removed]",
      "text/plain": [
       "<Figure size 432x288 with 1 Axes>"
      ]
     },
     "metadata": {},
     "output_type": "display_data"
    }
   ],
   "source": [
    "hist = top_station_tobs_df.hist(bins=12,edgecolor='black',alpha=0.75)\n",
    "\n",
    "plt.xlabel('Temperatures')\n",
    "plt.ylabel('Frequency')\n",
    "plt.show()"
   ]
  },
  {
   "cell_type": "markdown",
   "metadata": {},
   "source": [
    "## Temperature Analysis"
   ]
  },
  {
   "cell_type": "code",
   "execution_count": 295,
   "metadata": {},
   "outputs": [
    {
     "name": "stdout",
     "output_type": "stream",
     "text": [
      "[('2017-07-08', 71.0, 81.0, 77.16666666666667), ('2017-07-09', 76.0, 82.0, 79.33333333333333), ('2017-07-10', 69.0, 82.0, 77.85714285714286), ('2017-07-11', 72.0, 81.0, 77.0), ('2017-07-12', 72.0, 82.0, 78.28571428571429), ('2017-07-13', 74.0, 81.0, 78.14285714285714), ('2017-07-14', 76.0, 81.0, 78.83333333333333), ('2017-07-15', 78.0, 82.0, 80.16666666666667), ('2017-07-16', 75.0, 82.0, 78.33333333333333), ('2017-07-17', 72.0, 82.0, 77.83333333333333), ('2017-07-18', 76.0, 83.0, 79.14285714285714), ('2017-07-19', 74.0, 81.0, 78.16666666666667), ('2017-07-20', 75.0, 80.0, 78.42857142857143), ('2017-07-21', 72.0, 81.0, 78.14285714285714), ('2017-07-22', 72.0, 81.0, 77.66666666666667), ('2017-07-23', 75.0, 82.0, 79.6), ('2017-07-24', 75.0, 79.0, 77.66666666666667), ('2017-07-25', 77.0, 81.0, 79.28571428571429), ('2017-07-26', 73.0, 84.0, 78.42857142857143), ('2017-07-27', 75.0, 80.0, 78.0), ('2017-07-28', 73.0, 81.0, 79.14285714285714), ('2017-07-29', 77.0, 83.0, 80.5), ('2017-07-30', 78.0, 84.0, 80.6), ('2017-07-31', 74.0, 82.0, 78.71428571428571), ('2017-08-01', 72.0, 77.0, 74.5), ('2017-08-02', 73.0, 83.0, 79.0), ('2017-08-03', 76.0, 81.0, 79.0), ('2017-08-04', 77.0, 82.0, 80.0), ('2017-08-05', 77.0, 82.0, 80.0), ('2017-08-06', 79.0, 83.0, 81.4), ('2017-08-07', 78.0, 83.0, 80.5), ('2017-08-08', 74.0, 82.0, 78.5), ('2017-08-09', 71.0, 81.0, 77.33333333333333), ('2017-08-10', 75.0, 81.0, 79.25), ('2017-08-11', 72.0, 81.0, 78.0), ('2017-08-12', 74.0, 83.0, 79.0), ('2017-08-13', 77.0, 84.0, 80.6), ('2017-08-14', 75.0, 81.0, 78.2), ('2017-08-15', 70.0, 82.0, 77.2), ('2017-08-16', 71.0, 82.0, 77.0), ('2017-08-17', 72.0, 83.0, 77.25), ('2017-08-18', 76.0, 80.0, 78.0), ('2017-08-19', 71.0, 85.0, 78.75), ('2017-08-20', 78.0, 81.0, 79.66666666666667), ('2017-08-21', 76.0, 82.0, 79.5), ('2017-08-22', 76.0, 82.0, 80.0), ('2017-08-23', 76.0, 82.0, 80.25)]\n"
     ]
    }
   ],
   "source": [
    "# Highest temperature, lowest temperature and average temperature for the trip duration\n",
    "def calc_temps(start_date, end_date):\n",
    "    \n",
    "    #start_date = session.query(func.strftime(Measurement.date) == \"%Y-%m-%d\")\n",
    "    #end_date = session.query(func.strftime(Measurement.date) == \"%Y-%m-%d\")\n",
    "    \n",
    "    sel = [Measurement.date, func.min(Measurement.tobs).label('min_temp'),\\\n",
    "           func.max(Measurement.tobs).label('max_temp'),\\\n",
    "           func.avg(Measurement.tobs).label('avg_temp')]\n",
    "    \n",
    "    return session.query(*sel).\\\n",
    "           filter(Measurement.date >= start_date).\\\n",
    "           filter(Measurement.date <= end_date).\\\n",
    "           group_by(Measurement.date).all() \n",
    "\n",
    "print(calc_temps('2017-07-08', '2017-7-15'))"
   ]
  },
  {
   "cell_type": "code",
   "execution_count": 300,
   "metadata": {},
   "outputs": [
    {
     "name": "stdout",
     "output_type": "stream",
     "text": [
      "[('2012-02-28', 66.0, 70.375, 73.0), ('2012-02-29', 69.0, 72.11111111111111, 74.0), ('2012-03-01', 67.0, 71.11111111111111, 74.0), ('2012-03-02', 66.0, 69.25, 74.0), ('2012-03-03', 65.0, 69.71428571428571, 73.0), ('2012-03-04', 65.0, 68.85714285714286, 73.0), ('2012-03-05', 62.0, 65.0, 67.0)]\n"
     ]
    }
   ],
   "source": [
    "def calc_temps(start_date, end_date):\n",
    "    #start_date = session.query(func.strftime(Measurement.date) == \"%Y-%m-%d\")\n",
    "    #end_date = session.query(func.strftime(Measurement.date) == \"%Y-%m-%d\")\n",
    "    \n",
    "    return session.query(Measurement.date,func.min(Measurement.tobs), func.avg(Measurement.tobs), func.max(Measurement.tobs)).\\\n",
    "        filter(Measurement.date >= start_date).filter(Measurement.date <= end_date).\\\n",
    "        group_by(Measurement.date).all()\n",
    "print(calc_temps('2012-02-28', '2012-03-05'))"
   ]
  },
  {
   "cell_type": "code",
   "execution_count": 204,
   "metadata": {},
   "outputs": [],
   "source": [
    "# previous year (2016) Highest temperature, lowest temperature and average temperature \n"
   ]
  },
  {
   "cell_type": "markdown",
   "metadata": {},
   "source": [
    "### Plot Trip Average Temperature"
   ]
  },
  {
   "cell_type": "code",
   "execution_count": 77,
   "metadata": {},
   "outputs": [],
   "source": [
    "results = calc_temps('2017-07-08', '2017-07-15')\n",
    "df = pd.DataFrame(results)\n",
    "ptps = df['max_temp'] - df['min_temp']\n",
    "y_axis = df['avg_temp']"
   ]
  },
  {
   "cell_type": "code",
   "execution_count": 78,
   "metadata": {},
   "outputs": [
    {
     "data": {
      "image/png": "[encoded data removed]",
      "text/plain": [
       "<Figure size 216x360 with 1 Axes>"
      ]
     },
     "metadata": {},
     "output_type": "display_data"
    }
   ],
   "source": [
    "fig, ax = plt.subplots(figsize=(3, 5))\n",
    "\n",
    "ax.bar(np.arange(0, len(y_axis)) ,y_axis, yerr=ptps, color='lightcoral', alpha=0.5)\n",
    "\n",
    "ax.set_title('Trip Average Temperature')\n",
    "ax.set_ylabel('Temperature (F)')\n",
    "\n",
    "ax.yaxis.grid(alpha=0.75)\n",
    "plt.tick_params(\n",
    "    axis='x',          # changes apply to the x-axis\n",
    "    which='both',      # both major and minor ticks are affected\n",
    "    bottom=False,      # ticks along the bottom edge are off\n",
    "    top=False,         # ticks along the top edge are off\n",
    "    labelbottom=False) # labels along the bottom edge are off\n",
    "plt.tight_layout()\n",
    "plt.show()\n",
    "fig.savefig(\"trip_avg_temp.png\")"
   ]
  },
  {
   "cell_type": "markdown",
   "metadata": {},
   "source": [
    "Other Recommended Analysis (Optional)\n",
    "\n",
    "\n",
    "The following are optional challenge queries. These are highly recommended to attempt, but not required for the homework.\n",
    "\n",
    "Calculate the rainfall per weather station using the previous year's matching dates.\n",
    "\n",
    "\n",
    "\n",
    "### Rainfall per Weather Station"
   ]
  },
  {
   "cell_type": "code",
   "execution_count": 194,
   "metadata": {},
   "outputs": [
    {
     "data": {
      "text/plain": [
       "[('KANEOHE 838.1, HI US', 21.4234, -157.8015, 14.6, 0.28, '2010-01-01'),\n",
       " ('UPPER WAHIAWA 874.3, HI US', 21.4992, -158.0111, 306.6, 0.21, '2010-01-01'),\n",
       " ('WAIHEE 837.5, HI US',\n",
       "  21.45167,\n",
       "  -157.84888999999998,\n",
       "  32.9,\n",
       "  0.15,\n",
       "  '2010-01-01'),\n",
       " ('WAIMANALO EXPERIMENTAL FARM, HI US',\n",
       "  21.33556,\n",
       "  -157.71139,\n",
       "  19.5,\n",
       "  0.15,\n",
       "  '2010-01-01'),\n",
       " ('MANOA LYON ARBO 785.2, HI US',\n",
       "  21.3331,\n",
       "  -157.8025,\n",
       "  152.4,\n",
       "  0.14,\n",
       "  '2010-01-01'),\n",
       " ('WAIKIKI 717.2, HI US', 21.2716, -157.8168, 3.0, 0.08, '2010-01-01'),\n",
       " ('HONOLULU OBSERVATORY 702.2, HI US',\n",
       "  21.3152,\n",
       "  -157.9992,\n",
       "  0.9,\n",
       "  0.05,\n",
       "  '2010-01-01')]"
      ]
     },
     "execution_count": 194,
     "metadata": {},
     "output_type": "execute_result"
    }
   ],
   "source": [
    "def rainfall_station(start_date, end_date):\n",
    "    start_date = session.query(func.strftime(\"%Y-%m-%d\", Measurement.date))\n",
    "    end_date = session.query(func.strftime(\"%Y-%m-%d\", Measurement.date))\n",
    "    \n",
    "    sel = [Stations.name, Stations.latitude, Stations.longitude, Stations.elevation,\\\n",
    "          func.avg(Measurement.prcp), Measurement.date]  \n",
    "    \n",
    "    return session.query(*sel).filter(Measurement.station == Stations.station).\\\n",
    "                      filter(Measurement.date >= start_date).\\\n",
    "                      filter(Measurement.date <= end_date).\\\n",
    "                      group_by(Measurement.station).\\\n",
    "                      order_by(func.avg(Measurement.prcp).desc()).all()\n",
    "rainfall_station('2017-7-08', '2017-07-15')\n",
    " "
   ]
  },
  {
   "cell_type": "markdown",
   "metadata": {},
   "source": [
    "Calculate the daily normals. Normals are the averages for the min, avg, and max temperatures.\n",
    "\n",
    "\n",
    "You are provided with a function called daily_normals that will calculate the daily normals for a specific date. This date string will be in the format %m-%d. Be sure to use all historic tobs that match that date string.\n",
    "\n",
    "\n",
    "Create a list of dates for your trip in the format %m-%d. Use the daily_normals function to calculate the normals for each date string and append the results to a list.\n",
    "\n",
    "\n",
    "Load the list of daily normals into a Pandas DataFrame and set the index equal to the date.\n",
    "\n",
    "\n",
    "Use Pandas to plot an area plot (stacked=False) for the daily normals.\n"
   ]
  },
  {
   "cell_type": "code",
   "execution_count": 123,
   "metadata": {},
   "outputs": [
    {
     "data": {
      "text/plain": [
       "[('2010-01-01', 65.0, 69.71428571428571, 75.0),\n",
       " ('2011-01-01', 69.0, 72.14285714285714, 77.0),\n",
       " ('2012-01-01', 63.0, 68.42857142857143, 71.0),\n",
       " ('2013-01-01', 69.0, 70.5, 72.0),\n",
       " ('2014-01-01', 65.0, 68.66666666666667, 75.0),\n",
       " ('2015-01-01', 63.0, 66.28571428571429, 71.0),\n",
       " ('2016-01-01', 62.0, 68.16666666666667, 74.0),\n",
       " ('2017-01-01', 62.0, 69.33333333333333, 74.0)]"
      ]
     },
     "execution_count": 123,
     "metadata": {},
     "output_type": "execute_result"
    }
   ],
   "source": [
    "# Create a query that will calculate the daily normals \n",
    "\n",
    "def daily_normals(date):\n",
    "      \n",
    "    date = session.query(func.strftime(\"%m-%d\", Measurement.date))\n",
    "    \n",
    "    sel = [Measurement.date,func.min(Measurement.tobs), func.avg(Measurement.tobs), func.max(Measurement.tobs)]\n",
    "    \n",
    "    return session.query(*sel).filter(func.strftime(\"%m-%d\", Measurement.date) == date).\\\n",
    "                               group_by(Measurement.date).all()\n",
    "    \n",
    "daily_normals(\"1-01\")"
   ]
  },
  {
   "cell_type": "code",
   "execution_count": null,
   "metadata": {},
   "outputs": [],
   "source": [
    "# calculate the daily normals for your trip\n",
    "# push each tuple of calculations into a list called `normals`\n",
    "normals = []\n",
    "# Set the start and end date of the trip\n",
    "start_date = \"2017-07-08\"\n",
    "end_date - \"2017-07-15\"\n",
    "# Use the start and end date to create a range of dates\n",
    "\n",
    "# Stip off the year and save a list of %m-%d strings\n",
    "\n",
    "# Loop through the list of %m-%d strings and calculate the normals for each date"
   ]
  },
  {
   "cell_type": "code",
   "execution_count": null,
   "metadata": {},
   "outputs": [],
   "source": [
    "# Load the previous query results into a Pandas DataFrame and add the `trip_dates` range as the `date` index"
   ]
  },
  {
   "cell_type": "code",
   "execution_count": null,
   "metadata": {},
   "outputs": [],
   "source": [
    "# Plot the daily normals as an area plot with `stacked=False`"
   ]
  },
  {
   "cell_type": "code",
   "execution_count": null,
   "metadata": {},
   "outputs": [],
   "source": []
  },
  {
   "cell_type": "code",
   "execution_count": null,
   "metadata": {},
   "outputs": [],
   "source": []
  }
 ],
 "metadata": {
  "kernelspec": {
   "display_name": "Python [conda env:PythonData]",
   "language": "python",
   "name": "conda-env-PythonData-py"
  },
  "language_info": {
   "codemirror_mode": {
    "name": "ipython",
    "version": 3
   },
   "file_extension": ".py",
   "mimetype": "text/x-python",
   "name": "python",
   "nbconvert_exporter": "python",
   "pygments_lexer": "ipython3",
   "version": "3.6.5"
  }
 },
 "nbformat": 4,
 "nbformat_minor": 2
}
