{
 "cells": [
  {
   "cell_type": "code",
   "execution_count": 1,
   "metadata": {},
   "outputs": [],
   "source": [
    "# import pandas and matplotlib\n",
    "import pandas as pd\n",
    "import matplotlib\n",
    "import numpy as np\n",
    "from matplotlib import pyplot as plt"
   ]
  },
  {
   "cell_type": "code",
   "execution_count": 2,
   "metadata": {},
   "outputs": [],
   "source": [
    "# import SQLalchemy create_engine, automap_base, session\n",
    "import sqlalchemy\n",
    "from sqlalchemy.ext.automap import automap_base\n",
    "from sqlalchemy.orm import Session\n",
    "from sqlalchemy import create_engine, inspect, func\n",
    "from sqlalchemy import distinct\n"
   ]
  },
  {
   "cell_type": "code",
   "execution_count": 3,
   "metadata": {},
   "outputs": [],
   "source": [
    "import datetime as dt"
   ]
  },
  {
   "cell_type": "markdown",
   "metadata": {},
   "source": [
    "# Hawaii trip period\n",
    "* Start date - 2017/07/08\n",
    "* End data - 2017/07/15"
   ]
  },
  {
   "cell_type": "code",
   "execution_count": 4,
   "metadata": {},
   "outputs": [],
   "source": [
    "# create engine for the hawaii.sqlite database\n",
    "engine = create_engine(\"sqlite:///Resources/hawaii.sqlite\")"
   ]
  },
  {
   "cell_type": "code",
   "execution_count": 5,
   "metadata": {},
   "outputs": [
    {
     "data": {
      "text/plain": [
       "['measurement', 'station']"
      ]
     },
     "execution_count": 5,
     "metadata": {},
     "output_type": "execute_result"
    }
   ],
   "source": [
    "# use inpector to explore database and print table names\n",
    "inspector = inspect(engine)\n",
    "inspector.get_table_names()"
   ]
  },
  {
   "cell_type": "code",
   "execution_count": 6,
   "metadata": {},
   "outputs": [
    {
     "name": "stdout",
     "output_type": "stream",
     "text": [
      "id INTEGER\n",
      "station TEXT\n",
      "date TEXT\n",
      "prcp FLOAT\n",
      "tobs FLOAT\n"
     ]
    }
   ],
   "source": [
    "# use inpector to print column names and types for measurement\n",
    "columns_m = inspector.get_columns('measurement')\n",
    "for column in columns_m:\n",
    "    print(column['name'], column['type'])"
   ]
  },
  {
   "cell_type": "code",
   "execution_count": 7,
   "metadata": {},
   "outputs": [],
   "source": [
    "# refelct database into ORM class\n",
    "Base = automap_base()\n",
    "Base.prepare(engine, reflect=True)\n",
    "Measurement = Base.classes.measurement\n",
    "Stations = Base.classes.station"
   ]
  },
  {
   "cell_type": "code",
   "execution_count": 8,
   "metadata": {},
   "outputs": [],
   "source": [
    "# start session to query the database\n",
    "session = Session(engine)"
   ]
  },
  {
   "cell_type": "code",
   "execution_count": 9,
   "metadata": {},
   "outputs": [],
   "source": [
    "# create variable to hold the query values for date and preciptation,\n",
    "# last 12 months of data from the begining of my trip 2017/07/15\n",
    "\n",
    "# create and store variables for start and end dates of the trip\n",
    "start = dt.date(2017, 7, 8)\n",
    "end = dt.date(2017, 7, 15)\n",
    "\n",
    "# convert the datetime object into string to match the dateset format\n",
    "first_day = start.strftime('%Y-%m-%d')\n",
    "last_day = end.strftime('%Y-%m-%d')\n",
    "\n",
    "# calculate the date 12 months before the trip start date\n",
    "# to use as query date range\n",
    "query_start = dt.date(2017, 7, 8) - dt.timedelta(365)\n",
    "query_end = dt.date(2017, 7, 15) - dt.timedelta(365)\n",
    "\n",
    "# convert datete into string  to match the dateset format \n",
    "query_start_date = query_start.strftime('%Y-%m-%d')\n",
    "query_end_date = query_end.strftime('%Y-%m-%d')\n",
    "\n"
   ]
  },
  {
   "cell_type": "code",
   "execution_count": 10,
   "metadata": {},
   "outputs": [],
   "source": [
    "'''\n",
    "query the precipition for the 12 months previous to the date start date\n",
    "we will query date and prcp from the Measurement table\n",
    "set the filter into to the date as starting on query start date\n",
    "group by the dates\n",
    "'''\n",
    "\n",
    "query_precipitation = session.query(Measurement.date, Measurement.prcp).\\\n",
    "    filter(Measurement.date >= query_start_date).\\\n",
    "    filter(Measurement.date < first_day).\\\n",
    "    group_by(Measurement.date).all()\n"
   ]
  },
  {
   "cell_type": "code",
   "execution_count": 11,
   "metadata": {},
   "outputs": [
    {
     "data": {
      "text/html": [
       "<div>\n",
       "<style scoped>\n",
       "    .dataframe tbody tr th:only-of-type {\n",
       "        vertical-align: middle;\n",
       "    }\n",
       "\n",
       "    .dataframe tbody tr th {\n",
       "        vertical-align: top;\n",
       "    }\n",
       "\n",
       "    .dataframe thead th {\n",
       "        text-align: right;\n",
       "    }\n",
       "</style>\n",
       "<table border=\"1\" class=\"dataframe\">\n",
       "  <thead>\n",
       "    <tr style=\"text-align: right;\">\n",
       "      <th></th>\n",
       "      <th>date</th>\n",
       "      <th>Precipitation</th>\n",
       "    </tr>\n",
       "  </thead>\n",
       "  <tbody>\n",
       "    <tr>\n",
       "      <th>0</th>\n",
       "      <td>2016-07-08</td>\n",
       "      <td>0.31</td>\n",
       "    </tr>\n",
       "    <tr>\n",
       "      <th>1</th>\n",
       "      <td>2016-07-09</td>\n",
       "      <td>0.15</td>\n",
       "    </tr>\n",
       "    <tr>\n",
       "      <th>2</th>\n",
       "      <td>2016-07-10</td>\n",
       "      <td>1.15</td>\n",
       "    </tr>\n",
       "    <tr>\n",
       "      <th>3</th>\n",
       "      <td>2016-07-11</td>\n",
       "      <td>0.11</td>\n",
       "    </tr>\n",
       "    <tr>\n",
       "      <th>4</th>\n",
       "      <td>2016-07-12</td>\n",
       "      <td>0.03</td>\n",
       "    </tr>\n",
       "  </tbody>\n",
       "</table>\n",
       "</div>"
      ],
      "text/plain": [
       "         date  Precipitation\n",
       "0  2016-07-08           0.31\n",
       "1  2016-07-09           0.15\n",
       "2  2016-07-10           1.15\n",
       "3  2016-07-11           0.11\n",
       "4  2016-07-12           0.03"
      ]
     },
     "execution_count": 11,
     "metadata": {},
     "output_type": "execute_result"
    }
   ],
   "source": [
    "# load the results from the variable created into Pandas dataframe \n",
    "measurement_df = pd.DataFrame(query_precipitation)\n",
    "# set index on date\n",
    "measurement_df.set_index('date', inplace=True)\n",
    "# sort values by date\n",
    "measurement_df.sort_values(by='date')\n",
    "# rename prcp to Precipitation for readability\n",
    "measurement = measurement_df.rename(columns={\"prcp\":\"Precipitation\"})\n",
    "# clean data by dropping any NA value\n",
    "measurement_results = measurement.dropna()\n",
    "# now that the dataframe is sorted by date, reset index to use dates as a list to plot\n",
    "measurement_reset_index = measurement_results.reset_index()\n",
    "\n",
    "measurement_reset_index.head()"
   ]
  },
  {
   "cell_type": "markdown",
   "metadata": {},
   "source": [
    "## Precipitation Analysis"
   ]
  },
  {
   "cell_type": "code",
   "execution_count": 12,
   "metadata": {},
   "outputs": [
    {
     "data": {
      "image/png": "[encoded data removed]",
      "text/plain": [
       "<Figure size 864x720 with 1 Axes>"
      ]
     },
     "metadata": {},
     "output_type": "display_data"
    }
   ],
   "source": [
    "# plot using the dataframe created from the query as a bar chart\n",
    "measurement_reset_index['Precipitation'].plot(kind='bar', figsize=(12, 10), title='Precipitation',color='steelblue')\n",
    "# set y lable\n",
    "plt.ylabel(\"Precipitation\")\n",
    "plt.xlabel(\"Period: 2016/07/08 - 2017/07/07\")\n",
    "# set grid and its transparence\n",
    "plt.grid(alpha=0.25)\n",
    "\n",
    "# remove xticks, since there are too many ticks, the ticks are on top of each other\n",
    "# and not really readable, so it looks better without each date printed\n",
    "plt.tick_params(\n",
    "    axis='x',          # changes apply to the x-axis\n",
    "    which='both',      # both major and minor ticks are affected\n",
    "    bottom=False,      # ticks along the bottom edge are off\n",
    "    top=False,         # ticks along the top edge are off\n",
    "    labelbottom=False) # labels along the bottom edge are off\n",
    "# set title\n",
    "plt.title(\"Precipitation: 12 months prior to trip start date\")\n",
    "plt.tight_layout()\n",
    "# save image\n",
    "plt.savefig(\"Resources/precipitaion.png\")\n",
    "plt.show()"
   ]
  },
  {
   "cell_type": "markdown",
   "metadata": {},
   "source": [
    "### Precipitation Statistical Summary"
   ]
  },
  {
   "cell_type": "code",
   "execution_count": 13,
   "metadata": {},
   "outputs": [
    {
     "data": {
      "text/html": [
       "<div>\n",
       "<style scoped>\n",
       "    .dataframe tbody tr th:only-of-type {\n",
       "        vertical-align: middle;\n",
       "    }\n",
       "\n",
       "    .dataframe tbody tr th {\n",
       "        vertical-align: top;\n",
       "    }\n",
       "\n",
       "    .dataframe thead th {\n",
       "        text-align: right;\n",
       "    }\n",
       "</style>\n",
       "<table border=\"1\" class=\"dataframe\">\n",
       "  <thead>\n",
       "    <tr style=\"text-align: right;\">\n",
       "      <th></th>\n",
       "      <th>Precipitation</th>\n",
       "    </tr>\n",
       "  </thead>\n",
       "  <tbody>\n",
       "    <tr>\n",
       "      <th>count</th>\n",
       "      <td>346.000000</td>\n",
       "    </tr>\n",
       "    <tr>\n",
       "      <th>mean</th>\n",
       "      <td>0.479017</td>\n",
       "    </tr>\n",
       "    <tr>\n",
       "      <th>std</th>\n",
       "      <td>0.766550</td>\n",
       "    </tr>\n",
       "    <tr>\n",
       "      <th>min</th>\n",
       "      <td>0.000000</td>\n",
       "    </tr>\n",
       "    <tr>\n",
       "      <th>25%</th>\n",
       "      <td>0.010000</td>\n",
       "    </tr>\n",
       "    <tr>\n",
       "      <th>50%</th>\n",
       "      <td>0.150000</td>\n",
       "    </tr>\n",
       "    <tr>\n",
       "      <th>75%</th>\n",
       "      <td>0.687500</td>\n",
       "    </tr>\n",
       "    <tr>\n",
       "      <th>max</th>\n",
       "      <td>6.700000</td>\n",
       "    </tr>\n",
       "  </tbody>\n",
       "</table>\n",
       "</div>"
      ],
      "text/plain": [
       "       Precipitation\n",
       "count     346.000000\n",
       "mean        0.479017\n",
       "std         0.766550\n",
       "min         0.000000\n",
       "25%         0.010000\n",
       "50%         0.150000\n",
       "75%         0.687500\n",
       "max         6.700000"
      ]
     },
     "execution_count": 13,
     "metadata": {},
     "output_type": "execute_result"
    }
   ],
   "source": [
    "measurement_reset_index.describe()"
   ]
  },
  {
   "cell_type": "markdown",
   "metadata": {},
   "source": [
    "## Station Analysis"
   ]
  },
  {
   "cell_type": "code",
   "execution_count": 14,
   "metadata": {},
   "outputs": [
    {
     "name": "stdout",
     "output_type": "stream",
     "text": [
      "id INTEGER\n",
      "station TEXT\n",
      "name TEXT\n",
      "latitude FLOAT\n",
      "longitude FLOAT\n",
      "elevation FLOAT\n"
     ]
    }
   ],
   "source": [
    "# use inpector to print column names and types for station table\n",
    "columns_s = inspector.get_columns('station')\n",
    "for column in columns_s:\n",
    "    print(column['name'], column['type'])"
   ]
  },
  {
   "cell_type": "markdown",
   "metadata": {},
   "source": [
    "#### Total number of Stations"
   ]
  },
  {
   "cell_type": "code",
   "execution_count": 15,
   "metadata": {},
   "outputs": [
    {
     "name": "stdout",
     "output_type": "stream",
     "text": [
      "9\n"
     ]
    }
   ],
   "source": [
    "# counts the number os stations available in this dataset\n",
    "query_stations = session.query(func.distinct(Measurement.station)).count()\n",
    "print(query_stations)"
   ]
  },
  {
   "cell_type": "markdown",
   "metadata": {},
   "source": [
    "#### Most active stations in descending order"
   ]
  },
  {
   "cell_type": "code",
   "execution_count": 16,
   "metadata": {},
   "outputs": [
    {
     "data": {
      "text/plain": [
       "[('USC00519281', 2772),\n",
       " ('USC00519397', 2724),\n",
       " ('USC00513117', 2709),\n",
       " ('USC00519523', 2669),\n",
       " ('USC00516128', 2612),\n",
       " ('USC00514830', 2202),\n",
       " ('USC00511918', 1979),\n",
       " ('USC00517948', 1372),\n",
       " ('USC00518838', 511)]"
      ]
     },
     "execution_count": 16,
     "metadata": {},
     "output_type": "execute_result"
    }
   ],
   "source": [
    "'''\n",
    "finds the most active stations in descending order\n",
    "query station into the Measurement table, use func to count the stations appearaces\n",
    "add label in case we need to convert into pandas dataframe\n",
    "groupby station and order by the count of station appearances\n",
    "'''\n",
    "active_stations = session.query((Measurement.station),\\\n",
    "    func.count(Measurement.station).label(\"Station_Activity\")).\\\n",
    "    group_by(Measurement.station).\\\n",
    "    order_by(func.count(Measurement.station).desc()).all()\n",
    "active_stations"
   ]
  },
  {
   "cell_type": "markdown",
   "metadata": {},
   "source": [
    "### The Station with highest number of observations is\n",
    "## station: USC00519281 with 2772 observations"
   ]
  },
  {
   "cell_type": "markdown",
   "metadata": {},
   "source": [
    "#### Most active station's lowest, highest and average temperatures"
   ]
  },
  {
   "cell_type": "code",
   "execution_count": 17,
   "metadata": {},
   "outputs": [
    {
     "data": {
      "text/plain": [
       "[(54.0, 85.0, 71.66378066378067)]"
      ]
     },
     "execution_count": 17,
     "metadata": {},
     "output_type": "execute_result"
    }
   ],
   "source": [
    "'''\n",
    "most active station (USC00519281)lowest temperature, highest temperature and average temp\n",
    "query using the func to find min, max and avg temperatures for the most acitve station\n",
    "setting labels in case we need to convert into pandas dataframe\n",
    "filter by the station id\n",
    "'''\n",
    "most_active_station = session.query(func.min(Measurement.tobs).label('lowest_temp'),\\\n",
    "                      func.max(Measurement.tobs).label('highest_temp'),\\\n",
    "                      func.avg(Measurement.tobs).label('average_temp')).\\\n",
    "                      filter(Measurement.station == \"USC00519281\").all()\n",
    "\n",
    "most_active_station"
   ]
  },
  {
   "cell_type": "markdown",
   "metadata": {},
   "source": [
    " ###### Top Station tobs for the 12 months prior to the trip"
   ]
  },
  {
   "cell_type": "code",
   "execution_count": 18,
   "metadata": {},
   "outputs": [
    {
     "data": {
      "text/plain": [
       "[('USC00513117', 371),\n",
       " ('USC00519281', 371),\n",
       " ('USC00519397', 369),\n",
       " ('USC00516128', 353),\n",
       " ('USC00519523', 345),\n",
       " ('USC00514830', 303),\n",
       " ('USC00517948', 200)]"
      ]
     },
     "execution_count": 18,
     "metadata": {},
     "output_type": "execute_result"
    }
   ],
   "source": [
    "'''\n",
    "find out which station the the highest amount of temperature observations\n",
    "during the 12 months prior to the trip start date\n",
    "query the station, count the stations appearances\n",
    "filter by query start date (that is 12 months before the trip start date)\n",
    "filter by the end date as well to keep it within the range\n",
    "groupby station and order by the stations count from highest to low\n",
    "there were two station with the highest count, pick the same one that also \n",
    "had the highest count of activities\n",
    "'''\n",
    "\n",
    "tobs_last_12months = session.query(Measurement.station,\\\n",
    "    func.count(Measurement.tobs).label(\"Highest_number_observations\")).\\\n",
    "    filter(Measurement.date > query_start_date).\\\n",
    "    filter(Measurement.date < last_day).\\\n",
    "    group_by(Measurement.station).\\\n",
    "    order_by(func.count(Measurement.tobs).desc()).all()\n",
    "tobs_last_12months"
   ]
  },
  {
   "cell_type": "code",
   "execution_count": 19,
   "metadata": {
    "scrolled": true
   },
   "outputs": [],
   "source": [
    "'''\n",
    "get all the data from the top station only, set query to temperatures only\n",
    "filter by query start date and end date and also by the station with highest\n",
    "tobs counts\n",
    "'''\n",
    "top_station_tobs = session.query(Measurement.tobs).\\\n",
    "    filter(Measurement.date >= query_start_date).\\\n",
    "    filter(Measurement.date <= last_day).\\\n",
    "    filter(Measurement.station == 'USC00519281').all()"
   ]
  },
  {
   "cell_type": "code",
   "execution_count": 20,
   "metadata": {},
   "outputs": [
    {
     "data": {
      "text/html": [
       "<div>\n",
       "<style scoped>\n",
       "    .dataframe tbody tr th:only-of-type {\n",
       "        vertical-align: middle;\n",
       "    }\n",
       "\n",
       "    .dataframe tbody tr th {\n",
       "        vertical-align: top;\n",
       "    }\n",
       "\n",
       "    .dataframe thead th {\n",
       "        text-align: right;\n",
       "    }\n",
       "</style>\n",
       "<table border=\"1\" class=\"dataframe\">\n",
       "  <thead>\n",
       "    <tr style=\"text-align: right;\">\n",
       "      <th></th>\n",
       "      <th>tobs</th>\n",
       "    </tr>\n",
       "  </thead>\n",
       "  <tbody>\n",
       "    <tr>\n",
       "      <th>0</th>\n",
       "      <td>78.0</td>\n",
       "    </tr>\n",
       "    <tr>\n",
       "      <th>1</th>\n",
       "      <td>80.0</td>\n",
       "    </tr>\n",
       "    <tr>\n",
       "      <th>2</th>\n",
       "      <td>72.0</td>\n",
       "    </tr>\n",
       "    <tr>\n",
       "      <th>3</th>\n",
       "      <td>79.0</td>\n",
       "    </tr>\n",
       "    <tr>\n",
       "      <th>4</th>\n",
       "      <td>80.0</td>\n",
       "    </tr>\n",
       "  </tbody>\n",
       "</table>\n",
       "</div>"
      ],
      "text/plain": [
       "   tobs\n",
       "0  78.0\n",
       "1  80.0\n",
       "2  72.0\n",
       "3  79.0\n",
       "4  80.0"
      ]
     },
     "execution_count": 20,
     "metadata": {},
     "output_type": "execute_result"
    }
   ],
   "source": [
    "# put the date into a Pandas dataframe to plot the histogram\n",
    "top_station_tobs_df = pd.DataFrame(top_station_tobs)\n",
    "top_station_tobs_df.head()"
   ]
  },
  {
   "cell_type": "markdown",
   "metadata": {},
   "source": [
    "#### Histogram (Tobs for the  Top Station in the last 12 months)"
   ]
  },
  {
   "cell_type": "code",
   "execution_count": 21,
   "metadata": {},
   "outputs": [
    {
     "data": {
      "image/png": "[encoded data removed]",
      "text/plain": [
       "<Figure size 432x288 with 1 Axes>"
      ]
     },
     "metadata": {},
     "output_type": "display_data"
    }
   ],
   "source": [
    "# using the top station dataframe, plot the histogram\n",
    "hist = top_station_tobs_df.hist(bins=12,edgecolor='black',alpha=0.75)\n",
    "\n",
    "plt.xlabel('Temperatures(F)')\n",
    "plt.ylabel('Frequency')\n",
    "plt.savefig(\"Resources/histogram\")\n",
    "plt.show()"
   ]
  },
  {
   "cell_type": "markdown",
   "metadata": {},
   "source": [
    "## Temperature Analysis"
   ]
  },
  {
   "cell_type": "code",
   "execution_count": 22,
   "metadata": {},
   "outputs": [
    {
     "data": {
      "text/plain": [
       "[(69.0, 82.0, 78.3076923076923)]"
      ]
     },
     "execution_count": 22,
     "metadata": {},
     "output_type": "execute_result"
    }
   ],
   "source": [
    "'''\n",
    "create function to measure min, max and avg temperature for a range of date\n",
    "first select the query items, in this case we are finding the min, max and avg\n",
    "using func. we filter using start_date and end_date and the paramenter of the function\n",
    "we can then call the function with any dates we desire to query\n",
    "'''\n",
    "def calc_temps(start_date, end_date):\n",
    "    \n",
    "   \n",
    "    sel = [func.min(Measurement.tobs).label('min_temp'),\\\n",
    "           func.max(Measurement.tobs).label('max_temp'),\\\n",
    "           func.avg(Measurement.tobs).label('avg_temp')]\n",
    "    \n",
    "    return session.query(*sel).\\\n",
    "           filter(Measurement.date >= start_date).\\\n",
    "           filter(Measurement.date <= end_date).all()\n",
    "\n",
    "calc_temps(first_day, last_day)"
   ]
  },
  {
   "cell_type": "code",
   "execution_count": 23,
   "metadata": {},
   "outputs": [
    {
     "data": {
      "text/plain": [
       "[(71.0, 82.0, 77.26415094339623)]"
      ]
     },
     "execution_count": 23,
     "metadata": {},
     "output_type": "execute_result"
    }
   ],
   "source": [
    "'''to use to function created above, we just need to call the query start and\n",
    "end date created earlier'''\n",
    "\n",
    "\n",
    "calc_temps(query_start_date, query_end_date)"
   ]
  },
  {
   "cell_type": "markdown",
   "metadata": {},
   "source": [
    "### Plot Trip Average Temperature"
   ]
  },
  {
   "cell_type": "code",
   "execution_count": 24,
   "metadata": {},
   "outputs": [],
   "source": [
    "'''\n",
    "store results from function above into a pandas dataframe\n",
    "using a loop, get the difference between the max temp and min temp\n",
    "unpack into a list called ptps to plot as the yerr\n",
    "'''\n",
    "previous_year_temps = pd.DataFrame(calc_temps(query_start_date, query_end_date))\n",
    "\n",
    "results = []\n",
    "for temp in previous_year_temps:\n",
    "    diff = (previous_year_temps['max_temp'])-(previous_year_temps['min_temp'])\n",
    "results.append(diff)\n",
    "\n",
    "ptps = list(np.ravel(results))\n"
   ]
  },
  {
   "cell_type": "code",
   "execution_count": 25,
   "metadata": {},
   "outputs": [
    {
     "data": {
      "image/png": "[encoded data removed]",
      "text/plain": [
       "<Figure size 216x360 with 1 Axes>"
      ]
     },
     "metadata": {},
     "output_type": "display_data"
    }
   ],
   "source": [
    "# create subplot\n",
    "fig, ax = plt.subplots(figsize=(3, 5))\n",
    "\n",
    "# set x value \n",
    "x = np.arange(len(previous_year_temps['avg_temp']))\n",
    "# plot x as x value and avg temp as y value \n",
    "ax.bar(x, previous_year_temps['avg_temp'], yerr=ptps, color='lightcoral', alpha=0.5)\n",
    "\n",
    "ax.set_title('Trip Average Temperature')\n",
    "ax.set_ylabel('Temperature (F)')\n",
    "\n",
    "# remove xtick \n",
    "ax.yaxis.grid(alpha=0.75)\n",
    "plt.tick_params(\n",
    "    axis='x',          # changes apply to the x-axis\n",
    "    which='both',      # both major and minor ticks are affected\n",
    "    bottom=False,      # ticks along the bottom edge are off\n",
    "    top=False,         # ticks along the top edge are off\n",
    "    labelbottom=False) # labels along the bottom edge are off\n",
    "plt.tight_layout()\n",
    "plt.savefig(\"Resources/trip_avg_temp.png\")\n",
    "plt.show()\n"
   ]
  },
  {
   "cell_type": "markdown",
   "metadata": {},
   "source": [
    "### Average Rainfall per Weather Station"
   ]
  },
  {
   "cell_type": "code",
   "execution_count": 26,
   "metadata": {},
   "outputs": [
    {
     "data": {
      "text/plain": [
       "[('MANOA LYON ARBO 785.2, HI US', 21.3331, -157.8025, 152.4, 0.5925),\n",
       " ('WAIHEE 837.5, HI US',\n",
       "  21.45167,\n",
       "  -157.84888999999998,\n",
       "  32.9,\n",
       "  0.22999999999999998),\n",
       " ('WAIMANALO EXPERIMENTAL FARM, HI US', 21.33556, -157.71139, 19.5, 0.145),\n",
       " ('KUALOA RANCH HEADQUARTERS 886.9, HI US', 21.5213, -157.8374, 7.0, 0.1325),\n",
       " ('KANEOHE 838.1, HI US', 21.4234, -157.8015, 14.6, 0.13125),\n",
       " ('WAIKIKI 717.2, HI US', 21.2716, -157.8168, 3.0, 0.060000000000000005),\n",
       " ('PEARL CITY, HI US', 21.3934, -157.9751, 11.9, None)]"
      ]
     },
     "execution_count": 26,
     "metadata": {},
     "output_type": "execute_result"
    }
   ],
   "source": [
    "'''\n",
    "list all stations by descending order of  average rainfal for the period of the trip\n",
    "12 months prior, create a funcion with the query of both tables (Measurement and Station)\n",
    "using a joing, and func for average precipitation\n",
    "'''\n",
    "def rainfall_station(start_date, end_date):\n",
    "    \n",
    "    \n",
    "    sel = [Stations.name, Stations.latitude, Stations.longitude, Stations.elevation,\\\n",
    "          func.avg(Measurement.prcp)]  \n",
    "    \n",
    "    return session.query(*sel).filter(Measurement.station == Stations.station).\\\n",
    "                      filter(Measurement.date >= start_date).\\\n",
    "                      filter(Measurement.date <= end_date).\\\n",
    "                      group_by(Measurement.station).\\\n",
    "                      order_by(func.avg(Measurement.prcp).desc()).all()\n",
    "rainfall_station(query_start_date, query_end_date)\n",
    " "
   ]
  },
  {
   "cell_type": "markdown",
   "metadata": {},
   "source": [
    "### Daily Normals\n"
   ]
  },
  {
   "cell_type": "code",
   "execution_count": 27,
   "metadata": {},
   "outputs": [],
   "source": [
    "'''\n",
    "Create a function to calculate the daily normals using a query with the parameter date\n",
    "being only the month and day of all years in the dateset\n",
    "''' \n",
    "\n",
    "def daily_normals(date):\n",
    "    \n",
    "    sel = [func.min(Measurement.tobs).label('min_temp'),\\\n",
    "           func.avg(Measurement.tobs).label('avg_temp'),\\\n",
    "           func.max(Measurement.tobs).label('max_temp')]\n",
    "    \n",
    "    return session.query(*sel).filter(func.strftime(\"%m-%d\", Measurement.date) == date).all()"
   ]
  },
  {
   "cell_type": "code",
   "execution_count": 28,
   "metadata": {},
   "outputs": [
    {
     "data": {
      "text/plain": [
       "[[(69.0, 76.08333333333333, 83.0)],\n",
       " [(68.0, 76.19298245614036, 83.0)],\n",
       " [(68.0, 75.62068965517241, 82.0)],\n",
       " [(70.0, 75.78947368421052, 81.0)],\n",
       " [(67.0, 75.96491228070175, 82.0)],\n",
       " [(69.0, 76.1896551724138, 81.0)],\n",
       " [(61.0, 76.2280701754386, 82.0)],\n",
       " [(68.0, 76.2542372881356, 82.0)]]"
      ]
     },
     "execution_count": 28,
     "metadata": {},
     "output_type": "execute_result"
    }
   ],
   "source": [
    "# calculate the daily normals for your trip\n",
    "# push each tuple of calculations into a list called `normals`\n",
    "normals = []\n",
    "\n",
    "# Set the start and end date of the trip\n",
    "start_normals= dt.date(2016, 7, 8)\n",
    "end_normals = dt.date(2016, 7, 16) #had to add an extra day to show correct end date in the range\n",
    "\n",
    "# Use the start and end date to create a range of dates\n",
    "range_dates = np.arange(start_normals, end_normals)\n",
    "range_dates_dt= pd.to_datetime(range_dates)\n",
    "\n",
    "\n",
    "# Strip off the year and save a list of %m-%d strings\n",
    "month_days = range_dates_dt.strftime('%m-%d')\n",
    "\n",
    "\n",
    "# Loop through the list of %m-%d strings and calculate the normals for each date\n",
    "# calling in the function daily_normals created above\n",
    "for date in month_days:\n",
    "    normal = daily_normals(date)\n",
    "    normals.append(normal)\n",
    "normals"
   ]
  },
  {
   "cell_type": "code",
   "execution_count": 29,
   "metadata": {},
   "outputs": [
    {
     "data": {
      "text/html": [
       "<div>\n",
       "<style scoped>\n",
       "    .dataframe tbody tr th:only-of-type {\n",
       "        vertical-align: middle;\n",
       "    }\n",
       "\n",
       "    .dataframe tbody tr th {\n",
       "        vertical-align: top;\n",
       "    }\n",
       "\n",
       "    .dataframe thead th {\n",
       "        text-align: right;\n",
       "    }\n",
       "</style>\n",
       "<table border=\"1\" class=\"dataframe\">\n",
       "  <thead>\n",
       "    <tr style=\"text-align: right;\">\n",
       "      <th></th>\n",
       "      <th>Tmin</th>\n",
       "      <th>Tavg</th>\n",
       "      <th>Tmax</th>\n",
       "    </tr>\n",
       "    <tr>\n",
       "      <th>trip_dates</th>\n",
       "      <th></th>\n",
       "      <th></th>\n",
       "      <th></th>\n",
       "    </tr>\n",
       "  </thead>\n",
       "  <tbody>\n",
       "    <tr>\n",
       "      <th>07-08</th>\n",
       "      <td>69.0</td>\n",
       "      <td>76.083333</td>\n",
       "      <td>83.0</td>\n",
       "    </tr>\n",
       "    <tr>\n",
       "      <th>07-09</th>\n",
       "      <td>68.0</td>\n",
       "      <td>76.192982</td>\n",
       "      <td>83.0</td>\n",
       "    </tr>\n",
       "    <tr>\n",
       "      <th>07-10</th>\n",
       "      <td>68.0</td>\n",
       "      <td>75.620690</td>\n",
       "      <td>82.0</td>\n",
       "    </tr>\n",
       "    <tr>\n",
       "      <th>07-11</th>\n",
       "      <td>70.0</td>\n",
       "      <td>75.789474</td>\n",
       "      <td>81.0</td>\n",
       "    </tr>\n",
       "    <tr>\n",
       "      <th>07-12</th>\n",
       "      <td>67.0</td>\n",
       "      <td>75.964912</td>\n",
       "      <td>82.0</td>\n",
       "    </tr>\n",
       "    <tr>\n",
       "      <th>07-13</th>\n",
       "      <td>69.0</td>\n",
       "      <td>76.189655</td>\n",
       "      <td>81.0</td>\n",
       "    </tr>\n",
       "    <tr>\n",
       "      <th>07-14</th>\n",
       "      <td>61.0</td>\n",
       "      <td>76.228070</td>\n",
       "      <td>82.0</td>\n",
       "    </tr>\n",
       "    <tr>\n",
       "      <th>07-15</th>\n",
       "      <td>68.0</td>\n",
       "      <td>76.254237</td>\n",
       "      <td>82.0</td>\n",
       "    </tr>\n",
       "  </tbody>\n",
       "</table>\n",
       "</div>"
      ],
      "text/plain": [
       "            Tmin       Tavg  Tmax\n",
       "trip_dates                       \n",
       "07-08       69.0  76.083333  83.0\n",
       "07-09       68.0  76.192982  83.0\n",
       "07-10       68.0  75.620690  82.0\n",
       "07-11       70.0  75.789474  81.0\n",
       "07-12       67.0  75.964912  82.0\n",
       "07-13       69.0  76.189655  81.0\n",
       "07-14       61.0  76.228070  82.0\n",
       "07-15       68.0  76.254237  82.0"
      ]
     },
     "execution_count": 29,
     "metadata": {},
     "output_type": "execute_result"
    }
   ],
   "source": [
    "# Load the previous query results into a Pandas DataFrame\n",
    "normals_df = pd.DataFrame(normals)\n",
    "# had to set the dataframe to series to strip each value in a separate column\n",
    "normals_org = normals_df[0].apply(pd.Series)\n",
    "# add columns trip_date as to hold the month_days list created from the loop\n",
    "normals_org['trip_dates'] = month_days\n",
    "# renamed columns\n",
    "normals_renamed = normals_org.rename(columns={0:'Tmin',1:'Tavg',2:'Tmax'})\n",
    "# set index to trip dates\n",
    "normals_renamed.set_index('trip_dates')\n"
   ]
  },
  {
   "cell_type": "code",
   "execution_count": 30,
   "metadata": {},
   "outputs": [
    {
     "data": {
      "image/png": "[encoded data removed]",
      "text/plain": [
       "<Figure size 576x432 with 1 Axes>"
      ]
     },
     "metadata": {},
     "output_type": "display_data"
    }
   ],
   "source": [
    "# Plot the daily normals as an area plot\n",
    "# set variable for each area plot\n",
    "tmin = normals_renamed['Tmin']\n",
    "tavg = normals_renamed['Tavg']\n",
    "tmax = normals_renamed['Tmax']\n",
    "# x_axis will be the trip_dates for all plots\n",
    "x_axis = np.arange(len(normals_renamed['trip_dates']))\n",
    "\n",
    "# plot the area plot with the three variables\n",
    "fig, ax = plt.subplots(figsize=(8,6))\n",
    "ax.plot(tmin, label='Tmin',linewidth=3,color='blue',alpha=0.3 )\n",
    "ax.plot(tavg, label='Tavg',linewidth=3,color='grey',alpha=0.5)\n",
    "ax.plot(tmax, label='Tmax',linewidth=3,color='coral',alpha=0.3)\n",
    "# add fill to each plot\n",
    "ax.fill_between(np.arange(len(tmin)), tmin, color='blue', alpha=0.15)\n",
    "ax.fill_between(np.arange(len(tavg)), tavg, color='grey', alpha=0.2)\n",
    "ax.fill_between(np.arange(len(tmax)), tmax, color='coral', alpha=0.15)\n",
    "\n",
    "# set ticks \n",
    "ax.xaxis.set_ticks(np.arange(len(normals_renamed['trip_dates'])))\n",
    "ax.set_xticklabels(normals_renamed['trip_dates'],rotation=45)\n",
    "\n",
    "ax.xaxis.grid(alpha=1)\n",
    "\n",
    "plt.title(\"Daily Normals\")\n",
    "plt.xlabel(\"Dates\")\n",
    "plt.ylabel(\"Temperature(F)\")\n",
    "plt.legend(bbox_to_anchor=(1.05, 1), loc=2, borderaxespad=0.)\n",
    "plt.savefig(\"Resources/daily_normals\")\n",
    "plt.show()\n",
    "\n",
    "\n"
   ]
  },
  {
   "cell_type": "code",
   "execution_count": null,
   "metadata": {},
   "outputs": [],
   "source": []
  }
 ],
 "metadata": {
  "kernelspec": {
   "display_name": "Python [conda env:PythonData]",
   "language": "python",
   "name": "conda-env-PythonData-py"
  },
  "language_info": {
   "codemirror_mode": {
    "name": "ipython",
    "version": 3
   },
   "file_extension": ".py",
   "mimetype": "text/x-python",
   "name": "python",
   "nbconvert_exporter": "python",
   "pygments_lexer": "ipython3",
   "version": "3.6.5"
  }
 },
 "nbformat": 4,
 "nbformat_minor": 2
}
