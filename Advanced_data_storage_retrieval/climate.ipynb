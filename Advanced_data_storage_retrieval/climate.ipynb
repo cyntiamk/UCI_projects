{
 "cells": [
  {
   "cell_type": "code",
   "execution_count": 2,
   "metadata": {},
   "outputs": [],
   "source": [
    "# import pandas and matplotlib\n",
    "import pandas as pd\n",
    "import matplotlib\n",
    "import numpy as np\n",
    "from matplotlib import pyplot as plt"
   ]
  },
  {
   "cell_type": "code",
   "execution_count": 3,
   "metadata": {},
   "outputs": [],
   "source": [
    "# import SQLalchemy create_engine, automap_base, session\n",
    "import sqlalchemy\n",
    "from sqlalchemy.ext.automap import automap_base\n",
    "from sqlalchemy.orm import Session\n",
    "from sqlalchemy import create_engine, inspect, func\n",
    "from sqlalchemy import distinct\n"
   ]
  },
  {
   "cell_type": "code",
   "execution_count": 4,
   "metadata": {},
   "outputs": [],
   "source": [
    "import datetime as dt"
   ]
  },
  {
   "cell_type": "markdown",
   "metadata": {},
   "source": [
    "# Hawaii trip period\n",
    "* Start date - 2017/07/08\n",
    "* End data - 2017/07/15"
   ]
  },
  {
   "cell_type": "code",
   "execution_count": 5,
   "metadata": {},
   "outputs": [],
   "source": [
    "# create engine for the hawaii.sqlite database\n",
    "engine = create_engine(\"sqlite:///Resources/hawaii.sqlite\")"
   ]
  },
  {
   "cell_type": "code",
   "execution_count": 6,
   "metadata": {},
   "outputs": [
    {
     "data": {
      "text/plain": [
       "['measurement', 'station']"
      ]
     },
     "execution_count": 6,
     "metadata": {},
     "output_type": "execute_result"
    }
   ],
   "source": [
    "# use inpector to explore database and print table names\n",
    "inspector = inspect(engine)\n",
    "inspector.get_table_names()"
   ]
  },
  {
   "cell_type": "code",
   "execution_count": 7,
   "metadata": {},
   "outputs": [
    {
     "name": "stdout",
     "output_type": "stream",
     "text": [
      "id INTEGER\n",
      "station TEXT\n",
      "date TEXT\n",
      "prcp FLOAT\n",
      "tobs FLOAT\n"
     ]
    }
   ],
   "source": [
    "# use inpector to print column names and types for measurement\n",
    "columns_m = inspector.get_columns('measurement')\n",
    "for column in columns_m:\n",
    "    print(column['name'], column['type'])"
   ]
  },
  {
   "cell_type": "code",
   "execution_count": 8,
   "metadata": {},
   "outputs": [],
   "source": [
    "# refelct database into ORM class\n",
    "Base = automap_base()\n",
    "Base.prepare(engine, reflect=True)\n",
    "Measurement = Base.classes.measurement\n",
    "Stations = Base.classes.station"
   ]
  },
  {
   "cell_type": "code",
   "execution_count": 9,
   "metadata": {},
   "outputs": [],
   "source": [
    "# start session to query the database\n",
    "session = Session(engine)"
   ]
  },
  {
   "cell_type": "code",
   "execution_count": 10,
   "metadata": {},
   "outputs": [
    {
     "data": {
      "text/plain": [
       "[('2016-07-08', 0.31),\n",
       " ('2016-07-09', 0.15),\n",
       " ('2016-07-10', 1.15),\n",
       " ('2016-07-11', 0.11),\n",
       " ('2016-07-12', 0.03),\n",
       " ('2016-07-13', 0.14),\n",
       " ('2016-07-14', 1.15),\n",
       " ('2016-07-15', 1.7),\n",
       " ('2016-07-16', 2.05),\n",
       " ('2016-07-17', 0.55),\n",
       " ('2016-07-18', 0.23),\n",
       " ('2016-07-19', 0.41),\n",
       " ('2016-07-20', 0.08),\n",
       " ('2016-07-21', 0.01),\n",
       " ('2016-07-22', 0.13),\n",
       " ('2016-07-23', None),\n",
       " ('2016-07-24', 2.75),\n",
       " ('2016-07-25', 5.35),\n",
       " ('2016-07-26', 0.03),\n",
       " ('2016-07-27', 0.04),\n",
       " ('2016-07-28', 0.0),\n",
       " ('2016-07-29', 0.05),\n",
       " ('2016-07-30', 0.4),\n",
       " ('2016-07-31', 2.9),\n",
       " ('2016-08-01', 2.21),\n",
       " ('2016-08-02', 1.14),\n",
       " ('2016-08-03', None),\n",
       " ('2016-08-04', None),\n",
       " ('2016-08-05', None),\n",
       " ('2016-08-06', None),\n",
       " ('2016-08-07', 1.3),\n",
       " ('2016-08-08', 0.02),\n",
       " ('2016-08-09', 0.56),\n",
       " ('2016-08-10', 0.0),\n",
       " ('2016-08-11', 0.04),\n",
       " ('2016-08-12', 0.39),\n",
       " ('2016-08-13', 0.45),\n",
       " ('2016-08-14', 0.75),\n",
       " ('2016-08-15', 0.95),\n",
       " ('2016-08-16', 0.85),\n",
       " ('2016-08-17', 0.3),\n",
       " ('2016-08-18', 0.21),\n",
       " ('2016-08-19', 2.3),\n",
       " ('2016-08-20', 0.2),\n",
       " ('2016-08-21', 1.08),\n",
       " ('2016-08-22', 1.2),\n",
       " ('2016-08-23', 0.7),\n",
       " ('2016-08-24', 1.45),\n",
       " ('2016-08-25', 0.11),\n",
       " ('2016-08-26', 0.01),\n",
       " ('2016-08-27', None),\n",
       " ('2016-08-28', 2.07),\n",
       " ('2016-08-29', 0.9),\n",
       " ('2016-08-30', 0.05),\n",
       " ('2016-08-31', 2.46),\n",
       " ('2016-09-01', 0.01),\n",
       " ('2016-09-02', 0.03),\n",
       " ('2016-09-03', 1.0),\n",
       " ('2016-09-04', 0.44),\n",
       " ('2016-09-05', 0.18),\n",
       " ('2016-09-06', 1.0),\n",
       " ('2016-09-07', 1.35),\n",
       " ('2016-09-08', 0.15),\n",
       " ('2016-09-09', 0.35),\n",
       " ('2016-09-10', 1.16),\n",
       " ('2016-09-11', 0.6),\n",
       " ('2016-09-12', 1.04),\n",
       " ('2016-09-13', 1.2),\n",
       " ('2016-09-14', 6.7),\n",
       " ('2016-09-15', 3.35),\n",
       " ('2016-09-16', 0.61),\n",
       " ('2016-09-17', 0.23),\n",
       " ('2016-09-18', 0.42),\n",
       " ('2016-09-19', 0.25),\n",
       " ('2016-09-20', 0.43),\n",
       " ('2016-09-21', 1.02),\n",
       " ('2016-09-22', 0.75),\n",
       " ('2016-09-23', 0.33),\n",
       " ('2016-09-24', 0.27),\n",
       " ('2016-09-25', 0.04),\n",
       " ('2016-09-26', 1.02),\n",
       " ('2016-09-27', 1.0),\n",
       " ('2016-09-28', 0.05),\n",
       " ('2016-09-29', 1.49),\n",
       " ('2016-09-30', 0.38),\n",
       " ('2016-10-01', 1.02),\n",
       " ('2016-10-02', 0.61),\n",
       " ('2016-10-03', 0.46),\n",
       " ('2016-10-04', 3.46),\n",
       " ('2016-10-05', 0.81),\n",
       " ('2016-10-06', 0.04),\n",
       " ('2016-10-07', 0.01),\n",
       " ('2016-10-08', 0.04),\n",
       " ('2016-10-09', 0.0),\n",
       " ('2016-10-10', 0.0),\n",
       " ('2016-10-11', 0.35),\n",
       " ('2016-10-12', 0.02),\n",
       " ('2016-10-13', 0.06),\n",
       " ('2016-10-14', 0.0),\n",
       " ('2016-10-15', 0.33),\n",
       " ('2016-10-16', 0.0),\n",
       " ('2016-10-17', 0.38),\n",
       " ('2016-10-18', 0.48),\n",
       " ('2016-10-19', 0.0),\n",
       " ('2016-10-20', 1.0),\n",
       " ('2016-10-21', 0.09),\n",
       " ('2016-10-22', 1.37),\n",
       " ('2016-10-23', 0.24),\n",
       " ('2016-10-24', 0.7),\n",
       " ('2016-10-25', 0.4),\n",
       " ('2016-10-26', 0.0),\n",
       " ('2016-10-27', 1.25),\n",
       " ('2016-10-28', 0.37),\n",
       " ('2016-10-29', 0.25),\n",
       " ('2016-10-30', 0.95),\n",
       " ('2016-10-31', 1.35),\n",
       " ('2016-11-01', 0.09),\n",
       " ('2016-11-02', 0.04),\n",
       " ('2016-11-03', 0.02),\n",
       " ('2016-11-04', 0.06),\n",
       " ('2016-11-05', 0.38),\n",
       " ('2016-11-06', 0.05),\n",
       " ('2016-11-07', 0.05),\n",
       " ('2016-11-08', 0.53),\n",
       " ('2016-11-09', 0.04),\n",
       " ('2016-11-10', 0.01),\n",
       " ('2016-11-11', 0.0),\n",
       " ('2016-11-12', 0.0),\n",
       " ('2016-11-13', 0.0),\n",
       " ('2016-11-14', 0.02),\n",
       " ('2016-11-15', 0.05),\n",
       " ('2016-11-16', 0.91),\n",
       " ('2016-11-17', 0.02),\n",
       " ('2016-11-18', 0.0),\n",
       " ('2016-11-19', 0.11),\n",
       " ('2016-11-20', None),\n",
       " ('2016-11-21', 2.87),\n",
       " ('2016-11-22', 2.11),\n",
       " ('2016-11-23', 0.22),\n",
       " ('2016-11-24', 0.72),\n",
       " ('2016-11-25', 1.03),\n",
       " ('2016-11-26', 0.3),\n",
       " ('2016-11-27', 0.29),\n",
       " ('2016-11-28', 0.69),\n",
       " ('2016-11-29', 0.2),\n",
       " ('2016-11-30', 0.79),\n",
       " ('2016-12-01', 0.72),\n",
       " ('2016-12-02', 1.27),\n",
       " ('2016-12-03', 1.62),\n",
       " ('2016-12-04', 0.31),\n",
       " ('2016-12-05', 1.6),\n",
       " ('2016-12-06', 0.0),\n",
       " ('2016-12-07', 0.02),\n",
       " ('2016-12-08', 0.03),\n",
       " ('2016-12-09', 0.42),\n",
       " ('2016-12-10', 0.04),\n",
       " ('2016-12-11', 0.13),\n",
       " ('2016-12-12', 0.01),\n",
       " ('2016-12-13', 0.09),\n",
       " ('2016-12-14', 0.33),\n",
       " ('2016-12-15', 0.03),\n",
       " ('2016-12-16', 0.0),\n",
       " ('2016-12-17', 0.07),\n",
       " ('2016-12-18', None),\n",
       " ('2016-12-19', 0.15),\n",
       " ('2016-12-20', 0.0),\n",
       " ('2016-12-21', 0.55),\n",
       " ('2016-12-22', 1.24),\n",
       " ('2016-12-23', 0.83),\n",
       " ('2016-12-24', 1.08),\n",
       " ('2016-12-25', 0.38),\n",
       " ('2016-12-26', 1.48),\n",
       " ('2016-12-27', 0.14),\n",
       " ('2016-12-28', 0.14),\n",
       " ('2016-12-29', 1.03),\n",
       " ('2016-12-30', 2.37),\n",
       " ('2016-12-31', 0.9),\n",
       " ('2017-01-01', 0.03),\n",
       " ('2017-01-02', 0.0),\n",
       " ('2017-01-03', 0.0),\n",
       " ('2017-01-04', 0.0),\n",
       " ('2017-01-05', 0.47),\n",
       " ('2017-01-06', 0.1),\n",
       " ('2017-01-07', 0.0),\n",
       " ('2017-01-08', 0.03),\n",
       " ('2017-01-09', 0.0),\n",
       " ('2017-01-10', 0.0),\n",
       " ('2017-01-11', 0.0),\n",
       " ('2017-01-12', 0.0),\n",
       " ('2017-01-13', 0.0),\n",
       " ('2017-01-14', 0.0),\n",
       " ('2017-01-15', 0.01),\n",
       " ('2017-01-16', 0.0),\n",
       " ('2017-01-17', 0.0),\n",
       " ('2017-01-18', 0.07),\n",
       " ('2017-01-19', 0.0),\n",
       " ('2017-01-20', 0.0),\n",
       " ('2017-01-21', 0.08),\n",
       " ('2017-01-22', 0.72),\n",
       " ('2017-01-23', 0.85),\n",
       " ('2017-01-24', 1.85),\n",
       " ('2017-01-25', 2.64),\n",
       " ('2017-01-26', 0.1),\n",
       " ('2017-01-27', 0.03),\n",
       " ('2017-01-28', 0.0),\n",
       " ('2017-01-29', 0.55),\n",
       " ('2017-01-30', 0.0),\n",
       " ('2017-01-31', 0.0),\n",
       " ('2017-02-01', 0.0),\n",
       " ('2017-02-02', 0.0),\n",
       " ('2017-02-03', 0.0),\n",
       " ('2017-02-04', None),\n",
       " ('2017-02-05', 0.0),\n",
       " ('2017-02-06', 0.0),\n",
       " ('2017-02-07', 1.79),\n",
       " ('2017-02-08', 0.0),\n",
       " ('2017-02-09', 0.0),\n",
       " ('2017-02-10', 0.0),\n",
       " ('2017-02-11', 0.73),\n",
       " ('2017-02-12', 1.83),\n",
       " ('2017-02-13', 0.0),\n",
       " ('2017-02-14', 0.01),\n",
       " ('2017-02-15', 0.07),\n",
       " ('2017-02-16', 0.13),\n",
       " ('2017-02-17', 0.13),\n",
       " ('2017-02-18', None),\n",
       " ('2017-02-19', 0.1),\n",
       " ('2017-02-20', 0.0),\n",
       " ('2017-02-21', 0.07),\n",
       " ('2017-02-22', 0.32),\n",
       " ('2017-02-23', 0.0),\n",
       " ('2017-02-24', 0.0),\n",
       " ('2017-02-25', 0.12),\n",
       " ('2017-02-26', 0.0),\n",
       " ('2017-02-27', 0.0),\n",
       " ('2017-02-28', 0.58),\n",
       " ('2017-03-01', 2.0),\n",
       " ('2017-03-02', 0.58),\n",
       " ('2017-03-03', 0.56),\n",
       " ('2017-03-04', 0.0),\n",
       " ('2017-03-05', 0.35),\n",
       " ('2017-03-06', 0.0),\n",
       " ('2017-03-07', 0.0),\n",
       " ('2017-03-08', 0.0),\n",
       " ('2017-03-09', 0.01),\n",
       " ('2017-03-10', 0.0),\n",
       " ('2017-03-11', 0.0),\n",
       " ('2017-03-12', 0.0),\n",
       " ('2017-03-13', None),\n",
       " ('2017-03-14', 0.0),\n",
       " ('2017-03-15', 0.0),\n",
       " ('2017-03-16', 0.0),\n",
       " ('2017-03-17', 0.12),\n",
       " ('2017-03-18', None),\n",
       " ('2017-03-19', 0.0),\n",
       " ('2017-03-20', 0.0),\n",
       " ('2017-03-21', 0.0),\n",
       " ('2017-03-22', 0.0),\n",
       " ('2017-03-23', 0.03),\n",
       " ('2017-03-24', 0.17),\n",
       " ('2017-03-25', 0.48),\n",
       " ('2017-03-26', 0.0),\n",
       " ('2017-03-27', 0.0),\n",
       " ('2017-03-28', 0.68),\n",
       " ('2017-03-29', 0.07),\n",
       " ('2017-03-30', 0.04),\n",
       " ('2017-03-31', None),\n",
       " ('2017-04-01', 0.2),\n",
       " ('2017-04-02', 0.0),\n",
       " ('2017-04-03', 0.23),\n",
       " ('2017-04-04', 0.02),\n",
       " ('2017-04-05', 0.45),\n",
       " ('2017-04-06', 0.0),\n",
       " ('2017-04-07', 0.0),\n",
       " ('2017-04-08', None),\n",
       " ('2017-04-09', 0.0),\n",
       " ('2017-04-10', 0.0),\n",
       " ('2017-04-11', 0.25),\n",
       " ('2017-04-12', 0.65),\n",
       " ('2017-04-13', 0.23),\n",
       " ('2017-04-14', 2.82),\n",
       " ('2017-04-15', 0.9),\n",
       " ('2017-04-16', 0.11),\n",
       " ('2017-04-17', 1.3),\n",
       " ('2017-04-18', 0.98),\n",
       " ('2017-04-19', 0.14),\n",
       " ('2017-04-20', 0.0),\n",
       " ('2017-04-21', 1.84),\n",
       " ('2017-04-22', 1.35),\n",
       " ('2017-04-23', 0.35),\n",
       " ('2017-04-24', 0.05),\n",
       " ('2017-04-25', 0.0),\n",
       " ('2017-04-26', 0.22),\n",
       " ('2017-04-27', 0.11),\n",
       " ('2017-04-28', 0.79),\n",
       " ('2017-04-29', 0.0),\n",
       " ('2017-04-30', 0.8),\n",
       " ('2017-05-01', 0.25),\n",
       " ('2017-05-02', 0.0),\n",
       " ('2017-05-03', 0.01),\n",
       " ('2017-05-04', None),\n",
       " ('2017-05-05', 0.1),\n",
       " ('2017-05-06', 0.0),\n",
       " ('2017-05-07', 0.03),\n",
       " ('2017-05-08', 1.11),\n",
       " ('2017-05-09', 0.23),\n",
       " ('2017-05-10', 0.55),\n",
       " ('2017-05-11', 0.44),\n",
       " ('2017-05-12', 0.1),\n",
       " ('2017-05-13', 0.1),\n",
       " ('2017-05-14', 1.0),\n",
       " ('2017-05-15', 0.6),\n",
       " ('2017-05-16', 0.3),\n",
       " ('2017-05-17', 0.06),\n",
       " ('2017-05-18', 0.0),\n",
       " ('2017-05-19', 0.01),\n",
       " ('2017-05-20', None),\n",
       " ('2017-05-21', 0.0),\n",
       " ('2017-05-22', 0.3),\n",
       " ('2017-05-23', 0.44),\n",
       " ('2017-05-24', 2.17),\n",
       " ('2017-05-25', 0.88),\n",
       " ('2017-05-26', 0.0),\n",
       " ('2017-05-27', 0.5),\n",
       " ('2017-05-28', 0.0),\n",
       " ('2017-05-29', 0.4),\n",
       " ('2017-05-30', None),\n",
       " ('2017-05-31', 0.25),\n",
       " ('2017-06-01', 0.01),\n",
       " ('2017-06-02', 0.09),\n",
       " ('2017-06-03', None),\n",
       " ('2017-06-04', 0.82),\n",
       " ('2017-06-05', 0.01),\n",
       " ('2017-06-06', 0.0),\n",
       " ('2017-06-07', 0.01),\n",
       " ('2017-06-08', 0.0),\n",
       " ('2017-06-09', 0.02),\n",
       " ('2017-06-10', None),\n",
       " ('2017-06-11', 0.7),\n",
       " ('2017-06-12', 0.81),\n",
       " ('2017-06-13', 0.65),\n",
       " ('2017-06-14', 0.81),\n",
       " ('2017-06-15', 1.69),\n",
       " ('2017-06-16', 0.1),\n",
       " ('2017-06-17', 0.1),\n",
       " ('2017-06-18', 0.7),\n",
       " ('2017-06-19', 0.4),\n",
       " ('2017-06-20', 0.31),\n",
       " ('2017-06-21', 0.3),\n",
       " ('2017-06-22', 0.28),\n",
       " ('2017-06-23', 0.5),\n",
       " ('2017-06-24', 0.22),\n",
       " ('2017-06-25', 0.5),\n",
       " ('2017-06-26', 0.02),\n",
       " ('2017-06-27', 0.1),\n",
       " ('2017-06-28', 0.02),\n",
       " ('2017-06-29', 0.04),\n",
       " ('2017-06-30', 0.2),\n",
       " ('2017-07-01', 0.1),\n",
       " ('2017-07-02', 0.5),\n",
       " ('2017-07-03', 0.4),\n",
       " ('2017-07-04', 0.0),\n",
       " ('2017-07-05', 0.0),\n",
       " ('2017-07-06', 0.02),\n",
       " ('2017-07-07', 0.3),\n",
       " ('2017-07-08', 0.02),\n",
       " ('2017-07-09', 0.0),\n",
       " ('2017-07-10', 0.02),\n",
       " ('2017-07-11', 0.0),\n",
       " ('2017-07-12', 0.05),\n",
       " ('2017-07-13', 0.68),\n",
       " ('2017-07-14', 0.68),\n",
       " ('2017-07-15', 0.1),\n",
       " ('2017-07-16', 0.5),\n",
       " ('2017-07-17', 0.39),\n",
       " ('2017-07-18', 2.4),\n",
       " ('2017-07-19', 0.27),\n",
       " ('2017-07-20', 0.7),\n",
       " ('2017-07-21', 0.1),\n",
       " ('2017-07-22', 4.0),\n",
       " ('2017-07-23', 0.8),\n",
       " ('2017-07-24', 0.84),\n",
       " ('2017-07-25', 0.3),\n",
       " ('2017-07-26', 0.3),\n",
       " ('2017-07-27', 0.0),\n",
       " ('2017-07-28', 0.4),\n",
       " ('2017-07-29', 0.3),\n",
       " ('2017-07-30', 0.3),\n",
       " ('2017-07-31', 0.0),\n",
       " ('2017-08-01', None),\n",
       " ('2017-08-02', 0.25),\n",
       " ('2017-08-03', 0.06),\n",
       " ('2017-08-04', 0.0),\n",
       " ('2017-08-05', None),\n",
       " ('2017-08-06', None),\n",
       " ('2017-08-07', 0.05),\n",
       " ('2017-08-08', 0.34),\n",
       " ('2017-08-09', 0.15),\n",
       " ('2017-08-10', 0.07),\n",
       " ('2017-08-11', None),\n",
       " ('2017-08-12', 0.14),\n",
       " ('2017-08-13', None),\n",
       " ('2017-08-14', 0.22),\n",
       " ('2017-08-15', 0.42),\n",
       " ('2017-08-16', 0.42),\n",
       " ('2017-08-17', 0.13),\n",
       " ('2017-08-18', None),\n",
       " ('2017-08-19', 0.09),\n",
       " ('2017-08-20', None),\n",
       " ('2017-08-21', 0.56),\n",
       " ('2017-08-22', 0.5),\n",
       " ('2017-08-23', 0.45)]"
      ]
     },
     "execution_count": 10,
     "metadata": {},
     "output_type": "execute_result"
    }
   ],
   "source": [
    "# create variable to hold the query values for date and preciptation,\n",
    "# last 12 months of data from the begining of my trip 2017/07/15\n",
    "\n",
    "# convert date to %Y-%m-%d format\n",
    "start= dt.date(2017, 7, 8)\n",
    "end = dt.date(2017, 7, 15)\n",
    "\n",
    "first_day = start.strftime('%Y-%m-%d')\n",
    "last_day = end.strftime('%Y-%m-%d')\n",
    "\n",
    "query_start = dt.date(2017, 7, 8) - dt.timedelta(365)\n",
    "query_start_date = query_start.strftime('%Y-%m-%d')\n",
    "\n",
    "query_precipitation = session.query(Measurement.date, Measurement.prcp).\\\n",
    "    filter(Measurement.date >= query_start_date).\\\n",
    "    group_by(Measurement.date).all()\n",
    "query_precipitation"
   ]
  },
  {
   "cell_type": "code",
   "execution_count": 10,
   "metadata": {},
   "outputs": [
    {
     "data": {
      "text/html": [
       "<div>\n",
       "<style scoped>\n",
       "    .dataframe tbody tr th:only-of-type {\n",
       "        vertical-align: middle;\n",
       "    }\n",
       "\n",
       "    .dataframe tbody tr th {\n",
       "        vertical-align: top;\n",
       "    }\n",
       "\n",
       "    .dataframe thead th {\n",
       "        text-align: right;\n",
       "    }\n",
       "</style>\n",
       "<table border=\"1\" class=\"dataframe\">\n",
       "  <thead>\n",
       "    <tr style=\"text-align: right;\">\n",
       "      <th></th>\n",
       "      <th>date</th>\n",
       "      <th>Precipitation</th>\n",
       "    </tr>\n",
       "  </thead>\n",
       "  <tbody>\n",
       "    <tr>\n",
       "      <th>0</th>\n",
       "      <td>2016-07-08</td>\n",
       "      <td>0.31</td>\n",
       "    </tr>\n",
       "    <tr>\n",
       "      <th>1</th>\n",
       "      <td>2016-07-09</td>\n",
       "      <td>0.15</td>\n",
       "    </tr>\n",
       "    <tr>\n",
       "      <th>2</th>\n",
       "      <td>2016-07-10</td>\n",
       "      <td>1.15</td>\n",
       "    </tr>\n",
       "    <tr>\n",
       "      <th>3</th>\n",
       "      <td>2016-07-11</td>\n",
       "      <td>0.11</td>\n",
       "    </tr>\n",
       "    <tr>\n",
       "      <th>4</th>\n",
       "      <td>2016-07-12</td>\n",
       "      <td>0.03</td>\n",
       "    </tr>\n",
       "  </tbody>\n",
       "</table>\n",
       "</div>"
      ],
      "text/plain": [
       "         date  Precipitation\n",
       "0  2016-07-08           0.31\n",
       "1  2016-07-09           0.15\n",
       "2  2016-07-10           1.15\n",
       "3  2016-07-11           0.11\n",
       "4  2016-07-12           0.03"
      ]
     },
     "execution_count": 10,
     "metadata": {},
     "output_type": "execute_result"
    }
   ],
   "source": [
    "# load the results from the variable created into Pandas dataframe \n",
    "measurement_df = pd.DataFrame(query_precipitation)\n",
    "# set index on date\n",
    "measurement_df.set_index('date', inplace=True)\n",
    "# sort values by date\n",
    "measurement_df.sort_values(by='date')\n",
    "# rename prcp to Precipitation for readability\n",
    "measurement = measurement_df.rename(columns={\"prcp\":\"Precipitation\"})\n",
    "# clean data by dropping any na value\n",
    "measurement_results = measurement.dropna()\n",
    "# now that the dataframe is sorted by date, reset index to use dates as a list to plot\n",
    "measurement_reset_index = measurement_results.reset_index()\n",
    "\n",
    "measurement_reset_index.head()"
   ]
  },
  {
   "cell_type": "code",
   "execution_count": 11,
   "metadata": {},
   "outputs": [],
   "source": [
    "#unpack results into lists to plot\n",
    "dates = [date for date in measurement_reset_index['date']]\n",
    "precipitations = [precipitation for precipitation in measurement_reset_index['Precipitation']]"
   ]
  },
  {
   "cell_type": "markdown",
   "metadata": {},
   "source": [
    "## Precipitation Analysis"
   ]
  },
  {
   "cell_type": "code",
   "execution_count": 75,
   "metadata": {},
   "outputs": [
    {
     "data": {
      "image/png": "[encoded data removed]",
      "text/plain": [
       "<Figure size 720x576 with 1 Axes>"
      ]
     },
     "metadata": {},
     "output_type": "display_data"
    }
   ],
   "source": [
    "fig, ax =  plt.subplots(figsize=(10,8))\n",
    "x_axis = np.arange(len(dates))\n",
    "ax.bar(dates, precipitations)\n",
    "ax.set_xlabel(\"Date\")\n",
    "ax.set_ylabel(\"Precipitation\")\n",
    "ax.yaxis.grid(alpha=0.75)\n",
    "plt.tick_params(\n",
    "    axis='x',          # changes apply to the x-axis\n",
    "    which='both',      # both major and minor ticks are affected\n",
    "    bottom=False,      # ticks along the bottom edge are off\n",
    "    top=False,         # ticks along the top edge are off\n",
    "    labelbottom=False) # labels along the bottom edge are off\n",
    "plt.title(\"Precipitation: 12 months prior to trip start date\")\n",
    "plt.tight_layout()\n",
    "plt.savefig(\"Resources/precipitaion.png\")\n",
    "plt.show()\n"
   ]
  },
  {
   "cell_type": "code",
   "execution_count": 13,
   "metadata": {},
   "outputs": [
    {
     "data": {
      "text/html": [
       "<div>\n",
       "<style scoped>\n",
       "    .dataframe tbody tr th:only-of-type {\n",
       "        vertical-align: middle;\n",
       "    }\n",
       "\n",
       "    .dataframe tbody tr th {\n",
       "        vertical-align: top;\n",
       "    }\n",
       "\n",
       "    .dataframe thead th {\n",
       "        text-align: right;\n",
       "    }\n",
       "</style>\n",
       "<table border=\"1\" class=\"dataframe\">\n",
       "  <thead>\n",
       "    <tr style=\"text-align: right;\">\n",
       "      <th></th>\n",
       "      <th>Precipitation</th>\n",
       "    </tr>\n",
       "  </thead>\n",
       "  <tbody>\n",
       "    <tr>\n",
       "      <th>count</th>\n",
       "      <td>386.000000</td>\n",
       "    </tr>\n",
       "    <tr>\n",
       "      <th>mean</th>\n",
       "      <td>0.473420</td>\n",
       "    </tr>\n",
       "    <tr>\n",
       "      <th>std</th>\n",
       "      <td>0.760321</td>\n",
       "    </tr>\n",
       "    <tr>\n",
       "      <th>min</th>\n",
       "      <td>0.000000</td>\n",
       "    </tr>\n",
       "    <tr>\n",
       "      <th>25%</th>\n",
       "      <td>0.010000</td>\n",
       "    </tr>\n",
       "    <tr>\n",
       "      <th>50%</th>\n",
       "      <td>0.190000</td>\n",
       "    </tr>\n",
       "    <tr>\n",
       "      <th>75%</th>\n",
       "      <td>0.640000</td>\n",
       "    </tr>\n",
       "    <tr>\n",
       "      <th>max</th>\n",
       "      <td>6.700000</td>\n",
       "    </tr>\n",
       "  </tbody>\n",
       "</table>\n",
       "</div>"
      ],
      "text/plain": [
       "       Precipitation\n",
       "count     386.000000\n",
       "mean        0.473420\n",
       "std         0.760321\n",
       "min         0.000000\n",
       "25%         0.010000\n",
       "50%         0.190000\n",
       "75%         0.640000\n",
       "max         6.700000"
      ]
     },
     "execution_count": 13,
     "metadata": {},
     "output_type": "execute_result"
    }
   ],
   "source": [
    "measurement_reset_index.describe()"
   ]
  },
  {
   "cell_type": "markdown",
   "metadata": {},
   "source": [
    "## Station Analysis"
   ]
  },
  {
   "cell_type": "code",
   "execution_count": 14,
   "metadata": {},
   "outputs": [
    {
     "name": "stdout",
     "output_type": "stream",
     "text": [
      "id INTEGER\n",
      "station TEXT\n",
      "name TEXT\n",
      "latitude FLOAT\n",
      "longitude FLOAT\n",
      "elevation FLOAT\n"
     ]
    }
   ],
   "source": [
    "# use inpector to print column names and types for station\n",
    "columns_s = inspector.get_columns('station')\n",
    "for column in columns_s:\n",
    "    print(column['name'], column['type'])"
   ]
  },
  {
   "cell_type": "markdown",
   "metadata": {},
   "source": [
    "#### Number of statios available in the dataset"
   ]
  },
  {
   "cell_type": "code",
   "execution_count": 15,
   "metadata": {},
   "outputs": [
    {
     "name": "stdout",
     "output_type": "stream",
     "text": [
      "9\n"
     ]
    }
   ],
   "source": [
    "# counts the number os stations available in this dataset\n",
    "query_stations = session.query(func.distinct(Measurement.station)).count()\n",
    "print(query_stations)"
   ]
  },
  {
   "cell_type": "markdown",
   "metadata": {},
   "source": [
    "#### Most active stations in descending order"
   ]
  },
  {
   "cell_type": "code",
   "execution_count": 16,
   "metadata": {},
   "outputs": [
    {
     "data": {
      "text/plain": [
       "[('USC00519281', 2772),\n",
       " ('USC00519397', 2724),\n",
       " ('USC00513117', 2709),\n",
       " ('USC00519523', 2669),\n",
       " ('USC00516128', 2612),\n",
       " ('USC00514830', 2202),\n",
       " ('USC00511918', 1979),\n",
       " ('USC00517948', 1372),\n",
       " ('USC00518838', 511)]"
      ]
     },
     "execution_count": 16,
     "metadata": {},
     "output_type": "execute_result"
    }
   ],
   "source": [
    "# finds the most active stations in descending order\n",
    "active_stations = session.query((Measurement.station),\\\n",
    "    func.count(Measurement.station).label(\"Station_Activity\")).\\\n",
    "    group_by(Measurement.station).\\\n",
    "    order_by(func.count(Measurement.station).desc()).all()\n",
    "active_stations"
   ]
  },
  {
   "cell_type": "markdown",
   "metadata": {},
   "source": [
    "#### Most active station's lowest, highest and average temperatures"
   ]
  },
  {
   "cell_type": "code",
   "execution_count": 17,
   "metadata": {},
   "outputs": [
    {
     "data": {
      "text/plain": [
       "[(54.0, 85.0, 71.66378066378067)]"
      ]
     },
     "execution_count": 17,
     "metadata": {},
     "output_type": "execute_result"
    }
   ],
   "source": [
    "# most active station (USC00519281)lowest temperature, highest temperature and average temp\n",
    "most_active_station = session.query(func.min(Measurement.tobs).label('lowest_temp'),\\\n",
    "                      func.max(Measurement.tobs).label('highest_temp'),\\\n",
    "                      func.avg(Measurement.tobs).label('average_temp')).\\\n",
    "                      filter(Measurement.station == \"USC00519281\").all()\n",
    "\n",
    "most_active_station"
   ]
  },
  {
   "cell_type": "markdown",
   "metadata": {},
   "source": [
    "##### 12 months tobs filtered by station with highest number of observations "
   ]
  },
  {
   "cell_type": "code",
   "execution_count": 18,
   "metadata": {
    "scrolled": true
   },
   "outputs": [
    {
     "data": {
      "text/plain": [
       "[('USC00513117', 371),\n",
       " ('USC00519281', 371),\n",
       " ('USC00519397', 369),\n",
       " ('USC00516128', 353),\n",
       " ('USC00519523', 345),\n",
       " ('USC00514830', 303),\n",
       " ('USC00517948', 200)]"
      ]
     },
     "execution_count": 18,
     "metadata": {},
     "output_type": "execute_result"
    }
   ],
   "source": [
    "# find station with the highest number of temperarute observations\n",
    "# filtering by the period 12 months before the end of the trip\n",
    "\n",
    "tobs_last_12months = session.query(Measurement.station,\\\n",
    "    func.count(Measurement.tobs).label(\"Highest_number_observations\")).\\\n",
    "    filter(Measurement.date > query_start_date).\\\n",
    "    filter(Measurement.date < last_day).\\\n",
    "    group_by(Measurement.station).\\\n",
    "    order_by(func.count(Measurement.tobs).desc()).all()\n",
    "tobs_last_12months"
   ]
  },
  {
   "cell_type": "markdown",
   "metadata": {},
   "source": [
    " ###### Top Station tobs for the 12 months prior to the trip"
   ]
  },
  {
   "cell_type": "code",
   "execution_count": 19,
   "metadata": {
    "scrolled": true
   },
   "outputs": [],
   "source": [
    "# get all the data from the top station only\n",
    "top_station_tobs = session.query(Measurement.tobs).\\\n",
    "    filter(Measurement.date >= query_start_date).\\\n",
    "    filter(Measurement.date <= last_day).\\\n",
    "    filter(Measurement.station == 'USC00513117').all()"
   ]
  },
  {
   "cell_type": "code",
   "execution_count": 20,
   "metadata": {},
   "outputs": [
    {
     "data": {
      "text/html": [
       "<div>\n",
       "<style scoped>\n",
       "    .dataframe tbody tr th:only-of-type {\n",
       "        vertical-align: middle;\n",
       "    }\n",
       "\n",
       "    .dataframe tbody tr th {\n",
       "        vertical-align: top;\n",
       "    }\n",
       "\n",
       "    .dataframe thead th {\n",
       "        text-align: right;\n",
       "    }\n",
       "</style>\n",
       "<table border=\"1\" class=\"dataframe\">\n",
       "  <thead>\n",
       "    <tr style=\"text-align: right;\">\n",
       "      <th></th>\n",
       "      <th>tobs</th>\n",
       "    </tr>\n",
       "  </thead>\n",
       "  <tbody>\n",
       "    <tr>\n",
       "      <th>0</th>\n",
       "      <td>76.0</td>\n",
       "    </tr>\n",
       "    <tr>\n",
       "      <th>1</th>\n",
       "      <td>75.0</td>\n",
       "    </tr>\n",
       "    <tr>\n",
       "      <th>2</th>\n",
       "      <td>73.0</td>\n",
       "    </tr>\n",
       "    <tr>\n",
       "      <th>3</th>\n",
       "      <td>77.0</td>\n",
       "    </tr>\n",
       "    <tr>\n",
       "      <th>4</th>\n",
       "      <td>74.0</td>\n",
       "    </tr>\n",
       "  </tbody>\n",
       "</table>\n",
       "</div>"
      ],
      "text/plain": [
       "   tobs\n",
       "0  76.0\n",
       "1  75.0\n",
       "2  73.0\n",
       "3  77.0\n",
       "4  74.0"
      ]
     },
     "execution_count": 20,
     "metadata": {},
     "output_type": "execute_result"
    }
   ],
   "source": [
    "# put the date into a Pandas dataframe to plot the histogram\n",
    "top_station_tobs_df = pd.DataFrame(top_station_tobs)\n",
    "top_station_tobs_df.head()"
   ]
  },
  {
   "cell_type": "markdown",
   "metadata": {},
   "source": [
    "#### Histogram (Tobs for the  Top Station in the last 12 months)"
   ]
  },
  {
   "cell_type": "code",
   "execution_count": 76,
   "metadata": {},
   "outputs": [
    {
     "data": {
      "image/png": "[encoded data removed]",
      "text/plain": [
       "<Figure size 432x288 with 1 Axes>"
      ]
     },
     "metadata": {},
     "output_type": "display_data"
    }
   ],
   "source": [
    "hist = top_station_tobs_df.hist(bins=12,edgecolor='black',alpha=0.75)\n",
    "\n",
    "plt.xlabel('Temperatures')\n",
    "plt.ylabel('Frequency')\n",
    "plt.savefig(\"Resources/histogram\")\n",
    "plt.show()"
   ]
  },
  {
   "cell_type": "markdown",
   "metadata": {},
   "source": [
    "## Temperature Analysis"
   ]
  },
  {
   "cell_type": "code",
   "execution_count": 22,
   "metadata": {},
   "outputs": [
    {
     "data": {
      "text/plain": [
       "[('2017-07-08', 71.0, 81.0, 77.16666666666667),\n",
       " ('2017-07-09', 76.0, 82.0, 79.33333333333333),\n",
       " ('2017-07-10', 69.0, 82.0, 77.85714285714286),\n",
       " ('2017-07-11', 72.0, 81.0, 77.0),\n",
       " ('2017-07-12', 72.0, 82.0, 78.28571428571429),\n",
       " ('2017-07-13', 74.0, 81.0, 78.14285714285714),\n",
       " ('2017-07-14', 76.0, 81.0, 78.83333333333333),\n",
       " ('2017-07-15', 78.0, 82.0, 80.16666666666667)]"
      ]
     },
     "execution_count": 22,
     "metadata": {},
     "output_type": "execute_result"
    }
   ],
   "source": [
    "# Highest temperature, lowest temperature and average temperature \n",
    "#for the range of the trip duration\n",
    "\n",
    "def calc_temps(start_date, end_date):\n",
    "    \n",
    "   \n",
    "    sel = [Measurement.date,func.min(Measurement.tobs).label('min_temp'),\\\n",
    "           func.max(Measurement.tobs).label('max_temp'),\\\n",
    "           func.avg(Measurement.tobs).label('avg_temp')]\n",
    "    \n",
    "    return session.query(*sel).\\\n",
    "           filter(Measurement.date >= start_date).\\\n",
    "           filter(Measurement.date <= end_date).\\\n",
    "           group_by(Measurement.date).all()\n",
    "\n",
    "calc_temps(first_day, last_day)"
   ]
  },
  {
   "cell_type": "code",
   "execution_count": 23,
   "metadata": {},
   "outputs": [
    {
     "data": {
      "text/plain": [
       "[('2016-07-08', 73.0, 80.0, 77.85714285714286),\n",
       " ('2016-07-09', 71.0, 81.0, 77.66666666666667),\n",
       " ('2016-07-10', 72.0, 78.0, 76.0),\n",
       " ('2016-07-11', 72.0, 80.0, 76.0),\n",
       " ('2016-07-12', 75.0, 80.0, 78.85714285714286),\n",
       " ('2016-07-13', 74.0, 79.0, 76.66666666666667),\n",
       " ('2016-07-14', 73.0, 82.0, 78.14285714285714),\n",
       " ('2016-07-15', 71.0, 80.0, 76.71428571428571)]"
      ]
     },
     "execution_count": 23,
     "metadata": {},
     "output_type": "execute_result"
    }
   ],
   "source": [
    "# previous year (2016) Highest temperature, lowest temperature and average temperature \n",
    "start= dt.date(2017, 7, 8)\n",
    "end = dt.date(2017, 7, 15)\n",
    "\n",
    "first_2016 = start - dt.timedelta(365)\n",
    "last_2016 = end - dt.timedelta(365)\n",
    "\n",
    "first_day_2016 = first_2016.strftime('%Y-%m-%d')\n",
    "last_day_2016 = last_2016.strftime('%Y-%m-%d')\n",
    "\n",
    "calc_temps(first_day_2016,last_day_2016)"
   ]
  },
  {
   "cell_type": "markdown",
   "metadata": {},
   "source": [
    "### Plot Trip Average Temperature"
   ]
  },
  {
   "cell_type": "code",
   "execution_count": 24,
   "metadata": {},
   "outputs": [],
   "source": [
    "previous_year_temps = pd.DataFrame(calc_temps(first_day_2016,last_day_2016))\n",
    "\n",
    "results = []\n",
    "for temp in previous_year_temps:\n",
    "    diff = (previous_year_temps['max_temp'])-(previous_year_temps['min_temp'])\n",
    "results.append(diff)\n",
    "\n",
    "ptps = list(np.ravel(results))\n"
   ]
  },
  {
   "cell_type": "code",
   "execution_count": 77,
   "metadata": {},
   "outputs": [
    {
     "data": {
      "image/png": "[encoded data removed]",
      "text/plain": [
       "<Figure size 216x360 with 1 Axes>"
      ]
     },
     "metadata": {},
     "output_type": "display_data"
    }
   ],
   "source": [
    "fig, ax = plt.subplots(figsize=(3, 5))\n",
    "\n",
    "x = np.arange(len(previous_year_temps['avg_temp']))\n",
    "ax.bar(x, previous_year_temps['avg_temp'], yerr=ptps, color='lightcoral', alpha=0.5)\n",
    "\n",
    "ax.set_title('Trip Average Temperature')\n",
    "ax.set_ylabel('Temperature (F)')\n",
    "\n",
    "ax.yaxis.grid(alpha=0.75)\n",
    "plt.tick_params(\n",
    "    axis='x',          # changes apply to the x-axis\n",
    "    which='both',      # both major and minor ticks are affected\n",
    "    bottom=False,      # ticks along the bottom edge are off\n",
    "    top=False,         # ticks along the top edge are off\n",
    "    labelbottom=False) # labels along the bottom edge are off\n",
    "plt.tight_layout()\n",
    "plt.savefig(\"Resources/trip_avg_temp.png\")\n",
    "plt.show()\n"
   ]
  },
  {
   "cell_type": "markdown",
   "metadata": {},
   "source": [
    "### Rainfall per Weather Station"
   ]
  },
  {
   "cell_type": "code",
   "execution_count": 26,
   "metadata": {},
   "outputs": [
    {
     "data": {
      "text/plain": [
       "[('MANOA LYON ARBO 785.2, HI US', 21.3331, -157.8025, 152.4, 0.5925),\n",
       " ('WAIHEE 837.5, HI US',\n",
       "  21.45167,\n",
       "  -157.84888999999998,\n",
       "  32.9,\n",
       "  0.22999999999999998),\n",
       " ('WAIMANALO EXPERIMENTAL FARM, HI US', 21.33556, -157.71139, 19.5, 0.145),\n",
       " ('KUALOA RANCH HEADQUARTERS 886.9, HI US', 21.5213, -157.8374, 7.0, 0.1325),\n",
       " ('KANEOHE 838.1, HI US', 21.4234, -157.8015, 14.6, 0.13125),\n",
       " ('WAIKIKI 717.2, HI US', 21.2716, -157.8168, 3.0, 0.060000000000000005),\n",
       " ('PEARL CITY, HI US', 21.3934, -157.9751, 11.9, None)]"
      ]
     },
     "execution_count": 26,
     "metadata": {},
     "output_type": "execute_result"
    }
   ],
   "source": [
    "# should this be by total amount of rain or average of rain?\n",
    "\n",
    "\n",
    "# joined both \n",
    "def rainfall_station(start_date, end_date):\n",
    "    \n",
    "    \n",
    "    sel = [Stations.name, Stations.latitude, Stations.longitude, Stations.elevation,\\\n",
    "          func.avg(Measurement.prcp)]  \n",
    "    \n",
    "    return session.query(*sel).filter(Measurement.station == Stations.station).\\\n",
    "                      filter(Measurement.date >= start_date).\\\n",
    "                      filter(Measurement.date <= end_date).\\\n",
    "                      group_by(Measurement.station).\\\n",
    "                      order_by(func.avg(Measurement.prcp).desc()).all()\n",
    "rainfall_station(first_day_2016, last_day_2016)\n",
    " "
   ]
  },
  {
   "cell_type": "markdown",
   "metadata": {},
   "source": [
    "### Daily Normals\n"
   ]
  },
  {
   "cell_type": "code",
   "execution_count": 27,
   "metadata": {},
   "outputs": [],
   "source": [
    "# Create a query that will calculate the daily normals \n",
    "\n",
    "def daily_normals(date):\n",
    "    \n",
    "    sel = [func.min(Measurement.tobs).label('min_temp'),\\\n",
    "           func.avg(Measurement.tobs).label('avg_temp'),\\\n",
    "           func.max(Measurement.tobs).label('max_temp')]\n",
    "    \n",
    "    return session.query(*sel).filter(func.strftime(\"%m-%d\", Measurement.date) == date).all()"
   ]
  },
  {
   "cell_type": "code",
   "execution_count": 28,
   "metadata": {},
   "outputs": [
    {
     "name": "stdout",
     "output_type": "stream",
     "text": [
      "[[(69.0, 76.08333333333333, 83.0)], [(68.0, 76.19298245614036, 83.0)], [(68.0, 75.62068965517241, 82.0)], [(70.0, 75.78947368421052, 81.0)], [(67.0, 75.96491228070175, 82.0)], [(69.0, 76.1896551724138, 81.0)], [(61.0, 76.2280701754386, 82.0)], [(68.0, 76.2542372881356, 82.0)]]\n"
     ]
    }
   ],
   "source": [
    "# calculate the daily normals for your trip\n",
    "# push each tuple of calculations into a list called `normals`\n",
    "normals = []\n",
    "# Set the start and end date of the trip\n",
    "start_normals= dt.date(2017, 7, 8)\n",
    "end_normals = dt.date(2017, 7, 16) #had to add an extra day to show correct end date\n",
    "\n",
    "# Use the start and end date to create a range of dates\n",
    "range_dates = np.arange(start_normals, end_normals)\n",
    "range_dates_dt= pd.to_datetime(range_dates)\n",
    "\n",
    "\n",
    "# Strip off the year and save a list of %m-%d strings\n",
    "month_days = range_dates_dt.strftime('%m-%d')\n",
    "\n",
    "\n",
    "# Loop through the list of %m-%d strings and calculate the normals for each date\n",
    "for date in month_days:\n",
    "    normal = daily_normals(date)\n",
    "    normals.append(normal)\n",
    "print(normals)   "
   ]
  },
  {
   "cell_type": "code",
   "execution_count": 29,
   "metadata": {},
   "outputs": [
    {
     "data": {
      "text/html": [
       "<div>\n",
       "<style scoped>\n",
       "    .dataframe tbody tr th:only-of-type {\n",
       "        vertical-align: middle;\n",
       "    }\n",
       "\n",
       "    .dataframe tbody tr th {\n",
       "        vertical-align: top;\n",
       "    }\n",
       "\n",
       "    .dataframe thead th {\n",
       "        text-align: right;\n",
       "    }\n",
       "</style>\n",
       "<table border=\"1\" class=\"dataframe\">\n",
       "  <thead>\n",
       "    <tr style=\"text-align: right;\">\n",
       "      <th></th>\n",
       "      <th>Tmin</th>\n",
       "      <th>Tavg</th>\n",
       "      <th>Tmax</th>\n",
       "    </tr>\n",
       "    <tr>\n",
       "      <th>trip_dates</th>\n",
       "      <th></th>\n",
       "      <th></th>\n",
       "      <th></th>\n",
       "    </tr>\n",
       "  </thead>\n",
       "  <tbody>\n",
       "    <tr>\n",
       "      <th>07-08</th>\n",
       "      <td>69.0</td>\n",
       "      <td>76.083333</td>\n",
       "      <td>83.0</td>\n",
       "    </tr>\n",
       "    <tr>\n",
       "      <th>07-09</th>\n",
       "      <td>68.0</td>\n",
       "      <td>76.192982</td>\n",
       "      <td>83.0</td>\n",
       "    </tr>\n",
       "    <tr>\n",
       "      <th>07-10</th>\n",
       "      <td>68.0</td>\n",
       "      <td>75.620690</td>\n",
       "      <td>82.0</td>\n",
       "    </tr>\n",
       "    <tr>\n",
       "      <th>07-11</th>\n",
       "      <td>70.0</td>\n",
       "      <td>75.789474</td>\n",
       "      <td>81.0</td>\n",
       "    </tr>\n",
       "    <tr>\n",
       "      <th>07-12</th>\n",
       "      <td>67.0</td>\n",
       "      <td>75.964912</td>\n",
       "      <td>82.0</td>\n",
       "    </tr>\n",
       "    <tr>\n",
       "      <th>07-13</th>\n",
       "      <td>69.0</td>\n",
       "      <td>76.189655</td>\n",
       "      <td>81.0</td>\n",
       "    </tr>\n",
       "    <tr>\n",
       "      <th>07-14</th>\n",
       "      <td>61.0</td>\n",
       "      <td>76.228070</td>\n",
       "      <td>82.0</td>\n",
       "    </tr>\n",
       "    <tr>\n",
       "      <th>07-15</th>\n",
       "      <td>68.0</td>\n",
       "      <td>76.254237</td>\n",
       "      <td>82.0</td>\n",
       "    </tr>\n",
       "  </tbody>\n",
       "</table>\n",
       "</div>"
      ],
      "text/plain": [
       "            Tmin       Tavg  Tmax\n",
       "trip_dates                       \n",
       "07-08       69.0  76.083333  83.0\n",
       "07-09       68.0  76.192982  83.0\n",
       "07-10       68.0  75.620690  82.0\n",
       "07-11       70.0  75.789474  81.0\n",
       "07-12       67.0  75.964912  82.0\n",
       "07-13       69.0  76.189655  81.0\n",
       "07-14       61.0  76.228070  82.0\n",
       "07-15       68.0  76.254237  82.0"
      ]
     },
     "execution_count": 29,
     "metadata": {},
     "output_type": "execute_result"
    }
   ],
   "source": [
    "# Load the previous query results into a Pandas DataFrame and add the `trip_dates` range as the `date` index\n",
    "normals_df = pd.DataFrame(normals)\n",
    "normals_org = normals_df[0].apply(pd.Series)\n",
    "normals_org['trip_dates'] = month_days\n",
    "normals_renamed = normals_org.rename(columns={0:'Tmin',1:'Tavg',2:'Tmax'})\n",
    "normals_renamed.set_index('trip_dates')\n"
   ]
  },
  {
   "cell_type": "code",
   "execution_count": 78,
   "metadata": {},
   "outputs": [
    {
     "data": {
      "image/png": "[encoded data removed]",
      "text/plain": [
       "<Figure size 576x432 with 1 Axes>"
      ]
     },
     "metadata": {},
     "output_type": "display_data"
    }
   ],
   "source": [
    "# Plot the daily normals as an area plot with `stacked=False`\n",
    "tmin = normals_renamed['Tmin']\n",
    "tavg = normals_renamed['Tavg']\n",
    "tmax = normals_renamed['Tmax']\n",
    "x_axis = np.arange(len(normals_renamed['trip_dates']))\n",
    "\n",
    "# make the area plot \n",
    "fig, ax = plt.subplots(figsize=(8,6))\n",
    "ax.plot(tmin, label='Tmin',linewidth=3,color='blue',alpha=0.3 )\n",
    "ax.plot(tavg, label='Tavg',linewidth=3,color='grey',alpha=0.5)\n",
    "ax.plot(tmax, label='Tmax',linewidth=3,color='coral',alpha=0.3)\n",
    "# add fill to plot\n",
    "ax.fill_between(np.arange(len(tmin)), tmin, color='blue', alpha=0.15)\n",
    "ax.fill_between(np.arange(len(tavg)), tavg, color='grey', alpha=0.2)\n",
    "ax.fill_between(np.arange(len(tmax)), tmax, color='coral', alpha=0.15)\n",
    "\n",
    "ax.xaxis.set_ticks(np.arange(len(normals_renamed['trip_dates'])))\n",
    "ax.set_xticklabels(normals_renamed['trip_dates'],rotation=45)\n",
    "\n",
    "ax.xaxis.grid(alpha=1)\n",
    "\n",
    "plt.title(\"Daily Normals\")\n",
    "plt.xlabel(\"Dates\")\n",
    "plt.ylabel(\"Temperature(F)\")\n",
    "plt.legend(bbox_to_anchor=(1.05, 1), loc=2, borderaxespad=0.)\n",
    "plt.savefig(\"Resources/daily_normals\")\n",
    "plt.show()\n",
    "\n",
    "\n"
   ]
  },
  {
   "cell_type": "code",
   "execution_count": null,
   "metadata": {},
   "outputs": [],
   "source": []
  }
 ],
 "metadata": {
  "kernelspec": {
   "display_name": "Python [conda env:PythonData]",
   "language": "python",
   "name": "conda-env-PythonData-py"
  },
  "language_info": {
   "codemirror_mode": {
    "name": "ipython",
    "version": 3
   },
   "file_extension": ".py",
   "mimetype": "text/x-python",
   "name": "python",
   "nbconvert_exporter": "python",
   "pygments_lexer": "ipython3",
   "version": "3.6.5"
  }
 },
 "nbformat": 4,
 "nbformat_minor": 2
}
